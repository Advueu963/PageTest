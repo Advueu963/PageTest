{
 "cells": [
  {
   "cell_type": "markdown",
   "metadata": {},
   "source": [
    "# Appendix"
   ]
  },
  {
   "cell_type": "code",
   "execution_count": 4,
   "metadata": {},
   "outputs": [],
   "source": [
    "import numpy as np\n",
    "import scipy\n",
    "import itertools\n",
    "from itertools import chain, combinations\n",
    "import matplotlib as mpl\n",
    "import matplotlib.pyplot as plt\n",
    "from matplotlib import animation, rc\n",
    "mpl.rcParams['animation.writer'] = 'ffmpeg'\n",
    "\n",
    "# Vector Graphics\n",
    "%matplotlib inline\n",
    "import matplotlib_inline\n",
    "matplotlib_inline.backend_inline.set_matplotlib_formats('svg')"
   ]
  },
  {
   "cell_type": "markdown",
   "metadata": {},
   "source": [
    "(unc)=\n",
    "## Background on uncertainty modeling"
   ]
  },
  {
   "cell_type": "markdown",
   "metadata": {},
   "source": [
    "<div align=\"justify\">\n",
    "\n",
    "The notion of uncertainty has been studied in various branches of science and scientific disciplines. For a long time, it plays a major role in fields like economics, psychology, and the social sciences, typically in the appearance of applied statistics. Likewise, its importance for artificial intelligence has been recognized very early on[^footNoteIdentifier1], at the latest with the emergence of expert systems, which came along with the need for handling inconsistency, incompleteness, imprecision, and vagueness in knowledge representation ({cite:t}`krus_ua`). More recently, the phenomenon of uncertainty has also attracted a lot of attention in engineering, where it is studied under the notion of \"uncertainty quantification\"  ({cite:t}`owha_ou12`); interestingly, a distinction between aleatoric and epistemic uncertainty, very much in line with our machine learning perspective, is also made there.\n",
    "\n",
    "</div>"
   ]
  },
  {
   "cell_type": "markdown",
   "metadata": {},
   "source": [
    "<div align=\"justify\">\n",
    "\n",
    "The contemporary literature on uncertainty is rather broad (cf. {numref}`calcu`). In the following, we give a brief overview, specifically focusing on the distinction between set-based and distributional (probabilistic) representations. Against the background of our discussion about aleatoric and epistemic uncertainty, this distinction is arguably important. Roughly speaking, while aleatoric uncertainty is appropriately modeled in terms of probability distributions, one may argue that a set-based approach is more suitable for modeling ignorance and a lack of knowledge, and hence more apt at capturing epistemic uncertainty.\n",
    "\n",
    "</div>"
   ]
  },
  {
   "cell_type": "markdown",
   "metadata": {},
   "source": [
    ":::{figure-md} calcu\n",
    "<img src=\"pic-calculi.png\" alt=\"calculi\" width=\"600px\">\n",
    "\n",
    "Various uncertainty calculi and common frameworks for uncertainty representation ({cite:t}`dest_up08`). Most of these formalisms are generalizations of standard probability theory an arrow denotes an \"is more general than\" relationship\n",
    ":::"
   ]
  },
  {
   "cell_type": "markdown",
   "metadata": {},
   "source": [
    "### Sets versus distributions"
   ]
  },
  {
   "cell_type": "markdown",
   "metadata": {},
   "source": [
    "<div align=\"justify\">\n",
    "\n",
    "A generic way for describing situations of uncertainty is to proceed from an underlying reference set $\\Omega$, sometimes called the *frame of discernment* ({cite:t}`shaf_am`). This set consists of all hypotheses, or pieces of precise information, that ought to be distinguished in the current context.  Thus, the elements $\\omega \\in \\Omega$ are exhaustive and mutually exclusive, and one of them, $\\omega^*$, corresponds to the truth. For example, $\\Omega = \\{ H, T \\}$ in the case of coin tossing, $\\Omega = \\{ \\text{win}, \\text{loss}, \\text{tie} \\}$ in predicting the outcome of a football match, or $\\Omega = \\mathbb{R} \\times \\mathbb{R}_+$ in the estimation of the parameters (expected value and standar deviation) of a normal distribution from data. For ease of exposition and to avoid measure-theoretic complications, we will subsequently assume that $\\Omega$ is a discrete (finite or countable) set. \n",
    "\n",
    "\n",
    "</div>"
   ]
  },
  {
   "cell_type": "code",
   "execution_count": 2,
   "metadata": {},
   "outputs": [],
   "source": [
    "football_omega = [\"win\", \"tie\",\"loss\"]"
   ]
  },
  {
   "cell_type": "markdown",
   "metadata": {},
   "source": [
    "<div align=\"justify\">\n",
    "\n",
    "As an aside, we note that the assumption of exhaustiveness of $\\Omega$ could be relaxed. In a classification problem in machine learning, for example, not all possible classes might be known beforehand, or new classes may emerge in the course of time({cite:t}`hend_ab17`; {cite:t}`lian_et18`; {cite:t}`devr_lc18`). In the literature, this is often called the \"open world assumption\", whereas an exhaustive $\\Omega$ is considered as a \"closed world\" ({cite:t}`deng_ge14`). Although this distinction may look technical at first sight, it has important consequences with regard to the representation and processing of uncertain information, which specifically concern the role of the empty set. While the empty set is logically excluded as a valid piece of information under the closed world assumption, it may suggest that the true state $\\omega^*$ is outside $\\Omega$ under the open world assumption.\n",
    "\n",
    "</div>"
   ]
  },
  {
   "cell_type": "markdown",
   "metadata": {},
   "source": [
    "<div align=\"justify\">\n",
    "\n",
    "There are two basic ways for expressing uncertain information about $\\omega^*$, namely, in terms of *subsets* and in terms of *distributions*. A subset $C \\subseteq \\Omega$ corresponds to a constraint suggesting that $\\omega^* \\in C$. Thus, information or knowledge[^footNoteIdentifier2] expressed in this way distinguishes between values that are (at least provisionally) considered possible and those that are definitely excluded. As suggested by common examples such as specifying incomplete information about a numerical quantity in terms of an interval $C= [l,u]$, a set-based representation is appropriate for capturing uncertainty in the sense of *imprecision*. \n",
    "\n",
    "\n",
    "Going beyond this rough dichotomy, a distribution assigns a weight $p(\\omega)$ to each element $\\omega$, which can generally be understood as a degree of belief. At first sight, this appears to be a proper generalization of the set-based approach. Indeed, without any constraints on the weights, each subset $C$ can be characterized in terms of its indicator function $\\mathbb{I}_C$ on $\\Omega$ (which is a specific distribution assigning a weight of 1 to each $\\omega \\in C$ and 0 to all $\\omega \\not\\in \\Omega$). However, for the specifically important case of probability distributions, this view is actually not valid. \n",
    "\n",
    "</div>"
   ]
  },
  {
   "cell_type": "markdown",
   "metadata": {},
   "source": [
    "<div align=\"justify\">\n",
    "\n",
    "First, probability distributions need to obey a normalization constraint. In particular, a probability distribution requires the weights to be nonnegative and integrate to 1. A corresponding probability measure on $\\Omega$ is a set-function $\\Prob: \\, 2^\\Omega \\longrightarrow [0,1]$ such that $\\Prob(\\emptyset) = 0$, $\\Prob(\\Omega)=1$, and \n",
    "\n",
    "$$\n",
    "\\Prob(A \\cup B) = \\Prob(A) + \\Prob(B) \n",
    "$$(addi1)\n",
    "\n",
    "for all disjoint sets (events) $A, B \\subseteq \\Omega$. With $\\prob(\\omega) = \\Prob(\\{ \\omega \\})$ for all $\\omega \\in \\Omega$ it follows that $\\Prob(A) = \\sum_{\\omega \\in A} \\prob(\\omega)$, and hence $\\sum_{\\omega \\in \\Omega} \\prob(\\omega)=1$. Since the set-based approach does not (need to) satify this constraint, it is no longer a special case.\n",
    "\n",
    "Let us now define a probability distribution for the outcomes of a football match, i.e. $\\Omega = \\{ \\text{win}, \\text{loss}, \\text{tie} \\}$ with \n",
    "$\\Prob(\\{\\text{win} \\}) = 0.5$ and $\\Prob(\\{\\text{loss} \\}) = \\Prob(\\{\\text{tie} \\}) = 0.25$. Then we can easily calculate the probability for all subsets $S\\subseteq \\Omega$:\n",
    "\n",
    "</div>"
   ]
  },
  {
   "cell_type": "code",
   "execution_count": 5,
   "metadata": {},
   "outputs": [
    {
     "data": {
      "text/plain": [
       "{(): 0,\n",
       " ('win',): 0.5,\n",
       " ('tie',): 0.25,\n",
       " ('loss',): 0.25,\n",
       " ('win', 'tie'): 0.75,\n",
       " ('win', 'loss'): 0.75,\n",
       " ('tie', 'loss'): 0.5,\n",
       " ('win', 'tie', 'loss'): 1.0}"
      ]
     },
     "execution_count": 5,
     "metadata": {},
     "output_type": "execute_result"
    }
   ],
   "source": [
    "def powerset(iterable):\n",
    "    \"powerset([1,2,3]) --> () (1,) (2,) (3,) (1,2) (1,3) (2,3) (1,2,3)\"\n",
    "    s = list(iterable)\n",
    "    return chain.from_iterable(combinations(s, r) for r in range(len(s)+1))\n",
    "\n",
    "def probability_distribution_football(event):\n",
    "    match event:\n",
    "        case \"\":\n",
    "            return 0\n",
    "        case \"win\":\n",
    "            return 0.5\n",
    "        case \"tie\":\n",
    "            return 0.25\n",
    "        case \"loss\":\n",
    "            return 0.25\n",
    "        case _:\n",
    "            return sum([probability_distribution_football(e) for e in event])\n",
    "\n",
    "probability_values = {\n",
    "    x:round(probability_distribution_football(x),3)\n",
    "    for x in list(powerset(football_omega))\n",
    "}\n",
    "probability_values"
   ]
  },
  {
   "cell_type": "markdown",
   "metadata": {},
   "source": [
    "| S    | $\\Prob(S)$    |\n",
    "| :--- | ---: |\n",
    "| {}    | 0 |\n",
    "| {win} | 0.5|\n",
    "| {loss} |0.25 |\n",
    "| {tie} | 0.25 |\n",
    "| {win,tie} |   0.75 |\n",
    "| {win,loss} | 0.75 |\n",
    "| {loss,tie} | 0.5 |\n",
    "| {win,loss,tie} | 1|"
   ]
  },
  {
   "cell_type": "markdown",
   "metadata": {},
   "source": [
    "<div align=\"justify\">\n",
    "\n",
    "Second, in addition to the question of how information is represented, it is of course important to ask how the information is processed. In this regard, the probabilistic calculus differs fundamentally from constraint-based (set-based) information processing. The characteristic property of probability is its additivity {eq}`addi1`, suggesting that the belief in the disjunction (union) of two (disjoint) events $A$ and $B$ is the sum of the belief in either of them. In contrast to this, the set-based approach is more in line with a logical interpretation and calculus. Interpreting a constraint $C$ as a logical proposition $(\\omega \\in C)$, an event $A \\subseteq \\Omega$ is possible as soon as $A \\cap C \\neq \\emptyset$ and impossible otherwise. Thus, the information $(\\omega \\in C)$ can be associated with a set-function $\\Pi:\\, 2^\\Omega \\longrightarrow \\{ 0, 1 \\}$ such that $\\Pi(A) = \\llbracket A \\cap C \\neq \\emptyset \\rrbracket$. Obviously, this set-function satisfies $\\Pi(\\emptyset) = 0$, $\\Pi(\\Omega) = 1$, and \n",
    "\n",
    "$$\n",
    "\\Pi(A \\cup B) = \\max \\big( \\Pi(A) , \\Pi(B) \\big) \n",
    "$$(maxi1)\n",
    "\n",
    "Thus, $\\Pi$ is \"maxitive\" instead of additive ({cite:t}`shil_mm71`;{cite:t}`dubo_pt06`). Roughly speaking, an event $A$ is evaluated according to its (logical) consistency with a constraint $C$, whereas in probability theory, an event $A$ is evaluated in terms of its probability of occurrence. The latter is reflected by the probability mass assigned to $A$, and requires a comparison of this mass with the mass of other events (since only one outcome $\\omega$ is possible, the elementary events compete with each other). Consequently, the calculus of probability, including rules for combination of information, conditioning, etc., is quite different from the corresponding calculus of constraint-based information processing ({cite:t}`dubo_pt06`).\n",
    "\n",
    "For our football example we choose $C = \\{ \\text{win}, \\text{tie} \\}$ and the resulting values of the subsets can be easily computed:\n",
    "</div>"
   ]
  },
  {
   "cell_type": "code",
   "execution_count": 6,
   "metadata": {},
   "outputs": [
    {
     "data": {
      "text/plain": [
       "{(): 0,\n",
       " ('win',): 1,\n",
       " ('tie',): 1,\n",
       " ('loss',): 0,\n",
       " ('win', 'tie'): 1,\n",
       " ('win', 'loss'): 1,\n",
       " ('tie', 'loss'): 1,\n",
       " ('win', 'tie', 'loss'): 1}"
      ]
     },
     "execution_count": 6,
     "metadata": {},
     "output_type": "execute_result"
    }
   ],
   "source": [
    "constraint = [\"win\",\"tie\"]\n",
    "\n",
    "def pi_function(event):\n",
    "    # the np.any takes over the role of the max()\n",
    "    # the (1*) is to convert the output directly into a number\n",
    "    return 1* np.any([e in constraint for e in event])\n",
    "\n",
    "\n",
    "constraint_based_information = {\n",
    "    x:round(pi_function(x),3)\n",
    "    for x in list(powerset(football_omega))\n",
    "}\n",
    "constraint_based_information"
   ]
  },
  {
   "cell_type": "markdown",
   "metadata": {},
   "source": [
    "| S    | $\\Pi(S)$    |\n",
    "| :--- | ---: |\n",
    "| {}    | 0  |\n",
    "| {win} | 1 |\n",
    "| {loss} | 0 |\n",
    "| {tie} | 1 |\n",
    "| {win,tie} |   1 |\n",
    "| {win,loss} | 1 |\n",
    "| {loss,tie} | 1 |\n",
    "| {win,loss,tie} | 1|"
   ]
  },
  {
   "cell_type": "markdown",
   "metadata": {},
   "source": [
    "### Sets of distributions"
   ]
  },
  {
   "cell_type": "markdown",
   "metadata": {},
   "source": [
    "<div align=\"justify\">\n",
    "\n",
    "Given the complementary nature of sets and distributions, and the observation that both have advantages and disadvantages, one may wonder whether the two could not be combined in a meaningful way. Indeed, the argument that a single (probability) distribution is not enough for representing uncertain knowledge is quite prominent in the literature, and many generalized theories of uncertainty can be considered as a combination of that kind ({cite:t}`pdubo_pt`;{cite:t}`wall_sr`;{cite:t}`shaf_am`;{cite:t}`smet_tt94`). \n",
    "\n",
    "Since we are specifically interested in aleatoric and epistemic uncertainty, and since these two types of uncertainty are reasonably captured in terms of sets and probability distributions, respectively, a natural idea is to consider *sets of probability distributions*. In the literature on imprecise probability, these are also called [credal sets](../chapter-credal_sets/credal_sets) ({cite:t}`cozm_cn00`;{cite:t}`zaff_tn02`). An illustration is given in {numref}`bary1`, where probability distributions on $\\Omega = \\{ a,b,c \\}$ are represented as points in a Barycentric coordinate systems. A credal set then corresponds to a subset of such points, suggesting a lack of knowledge about the true distribution but restricting it in terms of a set of possible candidates.  \n",
    "\n",
    "</div>"
   ]
  },
  {
   "cell_type": "markdown",
   "metadata": {},
   "source": [
    ":::{figure-md} bary1\n",
    "<img src=\"pic-bary.png\" alt=\"bary\" width=\"600px\">\n",
    "\n",
    "Probability distributions on $\\Omega = \\{ a,b,c \\}$ as points in a Barycentric coordinate system: Precise knowledge (left) versus incomplete knowledge (middle) and complete ignorance (right) about the true distribution.\n",
    ":::"
   ]
  },
  {
   "cell_type": "markdown",
   "metadata": {},
   "source": [
    "<div align=\"justify\">\n",
    "\n",
    "Credal sets are typically assumed to be convex subsets of the class $\\mathbb{P}$ of all probability distributions on $\\Omega$. Such sets can be specified in different ways, for example in terms of upper and lower bounds on the probabilities $\\Prob(A)$ of events $A \\subseteq \\Omega$. A specifically simple approach (albeit of limited expressivity) is the use of so-called *possibility distributions* and related *possibility measures* ({cite:t}`dubo_pt`). A possibility distribution is a mapping $\\pi: \\, \\Omega \\longrightarrow [0,1]$, and the associated measure is given by \n",
    "\n",
    "$$\n",
    "\\Pi: \\, 2^\\Omega \\longrightarrow [0,1], \\, A \\mapsto \\sup_{\\omega \\in A} \\pi(\\omega) \\, .\n",
    "$$\n",
    "\n",
    "</div>"
   ]
  },
  {
   "cell_type": "markdown",
   "metadata": {},
   "source": [
    "<div align=\"justify\">\n",
    "\n",
    "A measure of that kind can be interpreted as an upper bound, and thus defines a set $\\mathcal{P}$ of dominated probability distributions:\n",
    "\n",
    "$$\n",
    "\\mathcal{P} := \\big\\{ \\Prob \\in \\mathbb{P} \\vert \\Prob(A) \\leq \\Pi(A) \\text{ for all } A \\subseteq \\Omega \\big\\}\n",
    "$$\n",
    "\n",
    "Formally, a possibility measure on $\\Omega$ satisfies $\\Pi(\\emptyset)=0$, $\\Pi(\\Omega)=1$, and $\\Pi(A \\cup B) = \\max(\\Pi(A), \\Pi(B))$ for all $A, B \\subseteq \\Omega$. Thus, it generalizes the maxitivity {eq}`maxi1` of sets in the sense that $\\Pi$ is not (necessarily) an indicator function, i.e., $\\Pi(A)$ is in $[0,1]$ and not restricted to $\\{ 0, 1 \\}$. A related *necessity measure* is defined as $N(A) = 1 - \\Pi(\\bar{A})$, where $\\bar{A} = \\Omega \\setminus A$. Thus, an event $A$ is plausible insofar as the complement of $A$ is not necessary. Or, stated differently, an event $A$ necessarily occurs if the complement of $A$ is not possible. \n",
    "\n",
    "Let us again compute the possibility measures $\\Pi$ for the football example with $\\pi(\\text{win}) = 0.9, \\pi(\\text{tie}) = 0.7$ and $\\pi(\\text{loss}) = 0.3$:\n",
    "\n",
    "</div>"
   ]
  },
  {
   "cell_type": "code",
   "execution_count": 8,
   "metadata": {},
   "outputs": [
    {
     "data": {
      "text/plain": [
       "{(): 0,\n",
       " ('win',): 0.9,\n",
       " ('tie',): 0.7,\n",
       " ('loss',): 0.3,\n",
       " ('win', 'tie'): 0.9,\n",
       " ('win', 'loss'): 0.9,\n",
       " ('tie', 'loss'): 0.7,\n",
       " ('win', 'tie', 'loss'): 0.9}"
      ]
     },
     "execution_count": 8,
     "metadata": {},
     "output_type": "execute_result"
    }
   ],
   "source": [
    "def possibility_measure_football(event):\n",
    "    match event:\n",
    "        case \"\":\n",
    "            return 0\n",
    "        case \"win\":\n",
    "            return 0.9\n",
    "        case \"tie\":\n",
    "            return 0.7\n",
    "        case \"loss\":\n",
    "            return 0.3\n",
    "        case _:\n",
    "            values = [probability_distribution_football(e) for e in event]\n",
    "            if len(values) == 0:\n",
    "                return 0\n",
    "            else:\n",
    "                return max([possibility_measure_football(e) for e in event])\n",
    "\n",
    "possibility_values = {\n",
    "    x:round(possibility_measure_football(x),3)\n",
    "    for x in list(powerset(football_omega))\n",
    "}\n",
    "possibility_values"
   ]
  },
  {
   "cell_type": "markdown",
   "metadata": {},
   "source": [
    "| S    | $\\Pi(S)$    |\n",
    "| :--- | ---: |\n",
    "| {}    | 0|\n",
    "| {win} | 0.9 |\n",
    "| {loss} | 0.3 |\n",
    "| {tie} | 0.7 |\n",
    "| {win,tie} | 0.9 |\n",
    "| {win,loss} | 0.9 |\n",
    "| {loss,tie} | 0.7 |\n",
    "| {win,loss,tie} | 0.9|"
   ]
  },
  {
   "cell_type": "markdown",
   "metadata": {},
   "source": [
    "<div align=\"justify\">\n",
    "\n",
    "We take $C = \\{ \\text{win}, \\text{tie} \\}$ as an example. So the complement of $C$ is $\\bar{C} = \\Omega \\setminus C = \\{ \\text{loss}\\}$. The neccessity measure $N(C) = 1 - \\Pi(\\bar{C}) = 0.7$\n",
    "\n",
    "</div>"
   ]
  },
  {
   "cell_type": "markdown",
   "metadata": {},
   "source": [
    "<div align=\"justify\">\n",
    "\n",
    "In a sense, possibility theory combines aspects of both set-based and distributional approaches. In fact, a possibility distribution can be seen as both a generalized set (in which elements can have graded degrees of membership) and a non-additive measure. Just like a probability, it allows for expressing graded degrees of belief (instead of merely distinguishing possible from impossible events), but its calculus is maxitive instead of additive[^footNoteIdentifier3].\n",
    "\n",
    "The dual pair of measures $(N, \\Pi)$ allows for expressing ignorance in a proper way, mainly because $A$ can be declared plausible without declaring $\\bar{A}$ implausible. In particular, $\\Pi(A) \\equiv 1$ on $2^\\Omega \\setminus \\emptyset$ models complete ignorance: Everything is fully plausible, and hence nothing is necessary ($N(A) = 1 - \\Pi(\\bar{A}) = 0$ for all $A$). A probability measure, on the other hand, is self-dual in the sense that $\\Prob(A) = 1 - \\Prob(\\bar{A})$. Thus, a probability measure is playing both roles simultaneously, namely the role of the possibility and the role of the necessity measure. Therefore, it is more constrained than a representation $(N, \\Pi)$. In a sense, probability and possibility distributions can be seen as two extremes on the scale of uncertainty representations[^footNoteIdentifier4].\n",
    "\n",
    "</div>"
   ]
  },
  {
   "cell_type": "code",
   "execution_count": 9,
   "metadata": {},
   "outputs": [
    {
     "data": {
      "text/plain": [
       "{(): 0.1,\n",
       " ('win',): 0.3,\n",
       " ('tie',): 0.1,\n",
       " ('loss',): 0.1,\n",
       " ('win', 'tie'): 0.7,\n",
       " ('win', 'loss'): 0.3,\n",
       " ('tie', 'loss'): 0.1,\n",
       " ('win', 'tie', 'loss'): 1}"
      ]
     },
     "execution_count": 9,
     "metadata": {},
     "output_type": "execute_result"
    }
   ],
   "source": [
    "def necessity_measure_football(event):\n",
    "    event_complement  = [e for e in football_omega if e not in event]\n",
    "    return 1 - possibility_measure_football(event_complement)\n",
    "\n",
    "necessity_values = {\n",
    "    x: round(necessity_measure_football(x),3)\n",
    "    for x in list(powerset(football_omega))\n",
    "}\n",
    "necessity_values"
   ]
  },
  {
   "cell_type": "markdown",
   "metadata": {},
   "source": [
    "| S    | $\\Pi(S)$    | $N(S)$ |\n",
    "| :--- | --- | ---:| \n",
    "| {}    | 0| 0.1|\n",
    "| {win} | 0.9 | 0.3|\n",
    "| {loss} | 0.7 |0.1 | \n",
    "| {tie} | 0.3 | 0.1|\n",
    "| {win,tie} | 0.9 | 0.7|\n",
    "| {win,loss} | 0.9 | 0.3|\n",
    "| {loss,tie} | 0.7 | 0.1|\n",
    "| {win,loss,tie} | 0.9 | 1|"
   ]
  },
  {
   "cell_type": "markdown",
   "metadata": {},
   "source": [
    "(dos)=\n",
    "### Distributions of sets"
   ]
  },
  {
   "cell_type": "markdown",
   "metadata": {},
   "source": [
    "<div align=\"justify\">\n",
    "\n",
    "Sets and distributions can also be combined the other way around, namely in terms of distributions of sets. Formalisms based on this idea include the calculus of *random sets* ({cite:t}`math_rs`;{cite:t}`nguy_or78`) as well as the Dempster-Shafer theory of evidence ({cite:t}`shaf_am`).\n",
    "\n",
    "In evidence theory, uncertain information is again expressed in terms of a dual pair of measures on $\\Omega$, a measure of *plausibility* and a measure of *belief*. Both can be derived from an underlying *mass function* or *basic belief assignment* $m:\\, 2^\\Omega \\longrightarrow [0,1]$, for which $m(\\emptyset) = 0$ and $\\sum_{B \\subseteq \\Omega} m(B) = 1$. Obviously, $m$ defines a probability distribution on the subsets of $\\Omega$. Thus, instead of a single set or constraint $C$, like in the set-based approach, we are now dealing with a set of such constraints, each one being assigned a weight $m(C)$. Each $C \\subseteq \\Omega$ such that $m(C) > 0$ is called a *focal element* and represents a single piece of evidence (in favor of $\\omega^* \\in C$). Assigning masses to subsets $C$ instead of single elements $\\omega$ allows for combining randomness and imprecision. \n",
    "\n",
    "Let us now define a mass assignment $m$ with $m(\\{\\text{win}\\}) = 0.3, m(\\emptyset) = 0, m(\\{\\text{win}, \\text{tie}\\}) = 0.5 $ and $m(\\{ \\text{tie}, \\text{loss} \\}) = 0.2$. $\\emptyset$ is not a focal element because the weight is not > 0.\n",
    "\n",
    "</div>"
   ]
  },
  {
   "cell_type": "markdown",
   "metadata": {},
   "source": [
    "<div align=\"justify\">\n",
    "\n",
    "A plausibility and belief function are derived from a mass function $m$ as follows: \n",
    "\n",
    "$$\n",
    "\\on{Pl}(A) := \\sum_{B \\cap A \\neq \\emptyset} m(B)  \\, ,  \\quad\n",
    "\\on{Bel}(A) := \\sum_{B \\subseteq A } m(B) \\, .\n",
    "$$\n",
    "\n",
    "So the belief and plausibility values for the defined mass assignments are:\n",
    "\n",
    "</div>"
   ]
  },
  {
   "cell_type": "code",
   "execution_count": null,
   "metadata": {},
   "outputs": [
    {
     "data": {
      "text/plain": [
       "({(): 0,\n",
       "  ('win',): 0.8,\n",
       "  ('tie',): 0.7,\n",
       "  ('loss',): 0.2,\n",
       "  ('win', 'tie'): 1.0,\n",
       "  ('win', 'loss'): 1.0,\n",
       "  ('tie', 'loss'): 0.7,\n",
       "  ('win', 'tie', 'loss'): 1.0},\n",
       " {(): 0,\n",
       "  ('win',): 0.3,\n",
       "  ('tie',): 0,\n",
       "  ('loss',): 0,\n",
       "  ('win', 'tie'): 0.8,\n",
       "  ('win', 'loss'): 0.3,\n",
       "  ('tie', 'loss'): 0.2,\n",
       "  ('win', 'tie', 'loss'): 1.0})"
      ]
     },
     "metadata": {},
     "output_type": "display_data"
    }
   ],
   "source": [
    "def mass_assignment(events):\n",
    "    match events:\n",
    "        case (\"win\",):\n",
    "            return 0.3\n",
    "        case (\"win\",\"tie\"):\n",
    "            return 0.5\n",
    "        case (\"tie\",\"loss\"):\n",
    "            return 0.2\n",
    "        case _:\n",
    "            return 0\n",
    "        \n",
    "def plausibility_measure(events):\n",
    "    plausibility = 0\n",
    "    for e in list(powerset(football_omega)):\n",
    "        if set(e).intersection(set(events)) != set():\n",
    "            plausibility += mass_assignment(e)\n",
    "    return plausibility\n",
    "\n",
    "def belief_measure(events):\n",
    "    belief = 0\n",
    "    for e in list(powerset(events)):\n",
    "        belief += mass_assignment(e)\n",
    "    return belief\n",
    "\n",
    "plausibility_values = {\n",
    "    x: round(plausibility_measure(x),3)\n",
    "    for x in list(powerset(football_omega))\n",
    "}\n",
    "belief_values = {    \n",
    "    x: round(belief_measure(x),3)\n",
    "    for x in list(powerset(football_omega))\n",
    "}\n",
    "plausibility_values, belief_values"
   ]
  },
  {
   "cell_type": "markdown",
   "metadata": {},
   "source": [
    "| S    | $\\on{Pl}(S)$    | $\\on{Bel}(S)$ |\n",
    "| :--- | --- | ---:| \n",
    "| {}    | 0| 0|\n",
    "| {win} | 0.8 | 0.3|\n",
    "| {loss} | 0.2 |0 | \n",
    "| {tie} | 0.7 | 0|\n",
    "| {win,tie} | 1 | 0.8|\n",
    "| {win,loss} | 1 | 0.3|\n",
    "| {loss,tie} | 0.7 | 0.2|\n",
    "| {win,loss,tie} | 1 | 1|"
   ]
  },
  {
   "cell_type": "markdown",
   "metadata": {},
   "source": [
    "<div align=\"justify\">\n",
    "\n",
    "Plausibility (or belief) functions indeed generalize both probability and possibility distributions. A probability distribution is obtained in the case where all focal elements are singleton sets. We still take the football match as an example. $\\Omega = \\{ \\text{win}, \\text{loss}, \\text{tie} \\}$ and $m(\\{\\text{win} \\}) = 0.5$ and $m(\\{\\text{loss} \\}) =0.2$ $m(\\{\\text{tie} \\}) = 0.3$, this is actually a probability distribution. \n",
    "\n",
    "A possibility measure is obtained as a special case of a plausibility measure (and, correspondingly, a necessity measure as a special case of a belief measure) for a mass function the focal sets of which are nested, i.e., such that $C_1 \\subset C_2 \\subset \\cdots \\subset C_r$. The corresponding possibility distribution is the *contour function* of the plausibility measure: $\\pi(\\omega) = \\on{Pl}(\\{ \\omega\\}) := \\sum_{C : \\, \\omega \\in C} m(C)$ for all $\\omega \\in \\Omega$. Thus, $\\pi(\\omega)$ can be interpreted as the probability that $\\omega$ is contained in a subset $C$ that is randomly chosen according to the distribution $m$ (see {numref}`contour1` for an illustration).  \n",
    "\n",
    "We further calculte the possibility distribution based on the previous mass assignment: $m(\\{\\text{win}\\}) = 0.3, m(\\{\\text{win}, \\text{tie}\\}) = 0.5 $ and $m(\\{ \\text{tie}, \\text{loss} \\}) = 0.2$ and $\\pi(\\text{win}) = \\on{Pl}(\\{ \\text{win}\\}) := m(\\{\\text{win}\\}) + m(\\{\\text{win}, \\text{tie}\\}) = 0.8$. Below is the visualization of possibility distribution. \n",
    "\n",
    "</div>"
   ]
  },
  {
   "cell_type": "code",
   "execution_count": null,
   "metadata": {},
   "outputs": [
    {
     "data": {
      "image/png": "[encoded data removed]",
      "text/plain": [
       "<Figure size 640x480 with 1 Axes>"
      ]
     },
     "metadata": {},
     "output_type": "display_data"
    }
   ],
   "source": [
    "possibility_values = {\n",
    "    x:plausibility_measure((x,))\n",
    "    for x in football_omega\n",
    "}\n",
    "possibility_distribution = possibility_values.values()\n",
    "\n",
    "fig, ax = plt.subplots()\n",
    "\n",
    "ax.bar(x=football_omega,height=possibility_distribution)\n",
    "\n",
    "ax.set_title(\"Possibility distribution from mass-assignment\")\n",
    "ax.set_xlabel(\"Events\")\n",
    "ax.set_ylabel(\"Possibility\")\n",
    "plt.show()"
   ]
  },
  {
   "cell_type": "markdown",
   "metadata": {},
   "source": [
    ":::{figure-md} contour1\n",
    "<img src=\"pic-contour.png\" alt=\"contour\" width=\"600px\">\n",
    "\n",
    "Possibility distribution as a contour function of a basic belief assignment $m$ (values assigned to focal sets on the right). In this example, $\\pi(\\omega_5)=1$, because $\\omega_5$ is contained in all focal sets, whereas $\\pi(\\omega_3)=0.6$.\n",
    ":::"
   ]
  },
  {
   "cell_type": "markdown",
   "metadata": {},
   "source": [
    "<div align=\"justify\">\n",
    "\n",
    "Note that we have obtained a possibility distribution in two ways and for two different interpretations, representing a set of distributions as well as a distribution of sets. One concrete way to define a possibility distribution $\\pi$ in a data-driven way, which is specifically interesting in the context of statistical inference, is in terms of the *normalized* or *relative likelihood*. Consider the case where $\\omega^*$ is the parameter of a probability distribution, and we are interested in estimating this parameter based on observed data $\\mathcal{D}$; in other words, we are interested in identifying the distribution within the family $\\{ \\Prob_\\omega \\with \\omega \\in \\Omega \\}$ from which the data was generated. The likelihood function is then given by $L(\\omega; \\mathcal{D}) := \\Prob_\\omega(\\mathcal{D})$, and the normalized likelihood as \n",
    "\n",
    "$$\n",
    "L^{n}(\\omega; \\mathcal{D}) := \\frac{L(\\omega; \\mathcal{D})}{\\sup_{\\omega' \\in \\Omega} L(\\omega; \\mathcal{D})} \\enspace .\n",
    "$$\n",
    "\n",
    "This function can be taken as the contour function of a (consonant) plausibility function $\\pi$, i.e., $\\pi(\\omega) = L^{n}(\\omega; \\mathcal{D})$ for all $\\omega \\in \\Omega$; the focal sets then simply correspond to the confidence intervals that can be extracted from the likelihood function, which are of the form $C_\\alpha = \\{ \\omega \\with L^{n}(\\omega; \\mathcal{D}) \\geq \\alpha \\}$. This is an interesting illustration of the idea of a distribution of sets: A confidence interval can be seen as a constraint, suggesting that the true parameter is located inside that interval. However, a single (deterministic) constraint is not meaningful, since there is a tradeoff between the correctness and the precision of the constraint. Working with a set of constraints---or, say, a flexible constraint---is a viable alternative.\n",
    "\n",
    "</div>"
   ]
  },
  {
   "cell_type": "markdown",
   "metadata": {},
   "source": [
    "<div align=\"justify\">\n",
    "\n",
    "Note that we have obtained a possibility distribution in two ways and for two different interpretations, representing a set of distributions as well as a distribution of sets. One concrete way to define a possibility distribution $\\pi$ in a data-driven way, which is specifically interesting in the context of statistical inference, is in terms of the *normalized* or *relative likelihood*. Consider the case where $\\omega^*$ is the parameter of a probability distribution, and we are interested in estimating this parameter based on observed data $\\mathcal{D}$; in other words, we are interested in identifying the distribution within the family $\\{ \\Prob_\\omega \\with \\omega \\in \\Omega \\}$ from which the data was generated. The likelihood function is then given by $L(\\omega; \\mathcal{D}) := \\Prob_\\omega(\\mathcal{D})$, and the normalized likelihood as \n",
    "\n",
    "$$\n",
    "L^{n}(\\omega; \\mathcal{D}) := \\frac{L(\\omega; \\mathcal{D})}{\\sup_{\\omega' \\in \\Omega} L(\\omega; \\mathcal{D})} \\enspace .\n",
    "$$\n",
    "\n",
    "This function can be taken as the contour function of a (consonant) plausibility function $\\pi$, i.e., $\\pi(\\omega) = L^{n}(\\omega; \\mathcal{D})$ for all $\\omega \\in \\Omega$; the focal sets then simply correspond to the confidence intervals that can be extracted from the likelihood function, which are of the form $C_\\alpha = \\{ \\omega \\with L^{n}(\\omega; \\mathcal{D}) \\geq \\alpha \\}$. This is an interesting illustration of the idea of a distribution of sets: A confidence interval can be seen as a constraint, suggesting that the true parameter is located inside that interval. However, a single (deterministic) constraint is not meaningful, since there is a tradeoff between the correctness and the precision of the constraint. Working with a set of constraints---or, say, a flexible constraint---is a viable alternative.\n",
    "\n",
    "</div>"
   ]
  },
  {
   "cell_type": "markdown",
   "metadata": {},
   "source": [
    "<div align=\"justify\">\n",
    "\n",
    "The normalized likelihood was originally introduced by {cite:t}`shaf_am`, and has been justified axiomatically in the context of statistical inference by {cite:t}`wass_bf90`. Further arguments in favor of using the relative likelihood as the contour function of a (consonant) plausibility function are provided by {cite:t}`deno_lb14`, who shows that it can be derived from three basic principles: the likelihood principle, compatibility with Bayes' rule, and the so-called minimal commitment principle. See also ({cite:t}`dubo_as97`) and ({cite:t}`catt_ls05`) for a discussion of the normalized likelihood in the context of possibility theory.  \n",
    "\n",
    "</div>"
   ]
  },
  {
   "cell_type": "markdown",
   "metadata": {},
   "source": [
    "(maxmin)=\n",
    "## Max-min versus sum-product aggregation "
   ]
  },
  {
   "cell_type": "markdown",
   "metadata": {},
   "source": [
    "<div align=\"justify\">\n",
    "\n",
    "Recall the definition of plausibility degrees $\\pi(y | \\vec{x}_{q})$ as introduced in Section {ref}`uqnl`.\n",
    "The computation of $\\pi(+1 \\given \\vec{x}_{q})$ according to {eq}`plaus` is illustrated in {numref}`inf1`, where the hypothesis space $\\cH$ is shown schematically as one of the axes. In comparison to Bayesian inference {eq}`pd`, two important differences are notable: \n",
    "\n",
    "- First, evidence of hypotheses is represented in terms of normalized likelihood $\\pi_{\\cH}(h)$ instead of posterior probabilities $\\prob(h \\given \\cD)$, and support for a class $y$ in terms of $\\pi(y \\given h, \\vec{x}_{q})$ instead of probabilities $h(\\vec{x}_{q}) = \\prob(y \\given \\vec{x}_{q})$. \n",
    "\n",
    "- Second, the \"sum-product aggregation\" in Bayesian inference is replaced by a \"max-min aggregation\". \n",
    "\n",
    "</div>"
   ]
  },
  {
   "cell_type": "markdown",
   "metadata": {},
   "source": [
    ":::{figure-md} inf1\n",
    "<img src=\"pic-inference.jpg\" alt=\"settings\" width=\"600px\">\n",
    "\n",
    "The plausibility $\\pi(+1 \\given \\vec{x}_{q})$ of the positive class is given by the maximum (dashed line) over the pointwise minima of the plausibility of hypotheses $h$ (blue line) and the corresponding plausibility of the positive class given $h$ (green line).\n",
    ":::"
   ]
  },
  {
   "cell_type": "markdown",
   "metadata": {},
   "source": [
    "<div align=\"justify\">\n",
    "\n",
    "More formally, the meaning of sum-product aggregation is that {eq}`pd` corresponds to the computation of the standard (Lebesque) integral of the class probability $\\prob(y \\given \\vec{x}_{q})$ with respect to the (posterior) probability distribution $\\prob(h \\given \\cD)$. Here, instead, the definition of $\\pi(y \\given \\vec{x}_{q})$ corresponds to the Sugeno integral ({cite:t}`suge_to`) of the support $\\pi(y \\given h, \\vec{x}_{q})$ with respect to the possibility measure $\\Pi_{\\cH}$ induced by the distribution {eq}`noli` on $\\cH$:\n",
    "\n",
    "$$\n",
    "\\pi(y \\vert \\vec{x}_{q}) =  S \\!\\!\\!\\!\\!\\! \\int_{\\cH} \\pi(y \\vert h, \\vec{x}_{q}) \\circ \\Pi_{\\cH}\n",
    "$$\n",
    "\n",
    "In general, given a measurable space $(X,\\mathcal{A})$ and an $\\mathcal{A}$-measurable function $f:\\, X \\longrightarrow [0,1]$, the Sugeno integral of $f$ with respect to a monotone measure $g$ (i.e., a measure on $\\mathcal{A}$ such that $g(\\emptyset) = 0$, $g(X) = 1$, and $g(A) \\leq g(B)$ for $A \\subseteq B$) is defined as\n",
    "\n",
    "$$\n",
    "S \\!\\!\\!\\!\\!\\! \\int_X f(x) \\circ g := \\sup_{A \\in \\mathcal{A}} \\left[ \\min \\left( \\min_{x \\in A} f(x) , g(A) \\right) \\right] = \\sup_{\\alpha \\in [0,1]} \\Big[ \\min \\big( \\alpha , g(F_\\alpha) \\big) \\Big] \\, , \n",
    "$$\n",
    "\n",
    "where $F_\\alpha := \\{ x \\with f(x) \\geq \\alpha \\}$.\n",
    "\n",
    "In comparison to sum-product aggregation, max-min aggregation avoids the loss of information due to averaging and is more in line with the \"existential\" aggregation in version space learning. In fact, it can be seen as a graded generalization of {eq}`cbi`. Note that max-min inference requires the two measures $\\pi_{\\cH}(h)$ and $\\pi(+1 \\vert h, \\vec{x}_{q})$ to be commensurable. This is why the normalization of the likelihood according to {eq}`noli` is important. \n",
    "\n",
    "\n",
    "Compared to MAP inference {eq}`map`, max-min inference takes more information into account. Indeed, MAP inference only looks at the probability of hypotheses but ignores the probabilities assigned to the classes. In contrast, a class can be considered plausible according to {eq}`plaus` even if not being strongly supported by the most likely hypothesis $h^{ml}$---this merely requires sufficient support by another hypothesis $h$, which is not much less likely than $h^{ml}$. \n",
    "\n",
    "</div>"
   ]
  },
  {
   "cell_type": "markdown",
   "metadata": {},
   "source": [
    "## Excursus: Hypothesis testing\n",
    "<div align=\"justify\">\n",
    "\n",
    "Let us first revise the basic idea of hypothesis testing, the underlying concept of conformal prediction.\n",
    "Assume you have been invited to a friends home and let a food delivery bring delicious food.\n",
    "Let us call the friend B.\\\n",
    "Both of you agree to have a coin decide which one has to pay the bill.\n",
    "Yet only one coin toss would be unfair, B suggests to toss a coin 20 times.\n",
    "The proportion of *heads* in the sequence would be the amount you have to pay of the bill and the proportion of *tails* is the amount your friend has to pay.\n",
    "Because of modern days you do not have a coin with you and you have to take the coin of B.\n",
    "Having a certain doubt B wants to only the the faith decide on the bill split you want to check whether he uses a fair coin.\n",
    "With your basic knowledge in statistics you tackle this problem with hypothesis testing.\n",
    "\n",
    "</div>"
   ]
  },
  {
   "cell_type": "markdown",
   "metadata": {},
   "source": [
    "<div align=\"justify\">\n",
    "\n",
    "Firstly you formalize the problem. The assumption of a fair coin is your null hypothesis $H_0: \\theta = \\frac{1}{2}$ and the alternative hypothesis $H_1: \\theta \\neq \\frac{1}{2}$. If B provides a fair coin the probability of having k heads in a sequence with 20 coin flips should follow the following distribution.\n",
    "\n",
    "$$\n",
    "P(H = k | H_0) = B(k, \\frac{1}{2}) = \\binom{20}{k}(\\frac{1}{2})^k(\\frac{1}{2})^{N-k} = \\binom{20}{k}(\\frac{1}{2})^N\n",
    "$$\n",
    "\n",
    "In the following we define the probability distribution for general sequence with N realizations.\n",
    "\n",
    "</div>"
   ]
  },
  {
   "cell_type": "code",
   "execution_count": null,
   "metadata": {},
   "outputs": [],
   "source": [
    "def binomial_distribution(k, p, N=20):\n",
    "    # denote that this function works with both k being integer and k being an array of integers\n",
    "    binomial_coefficient = scipy.special.factorial(N) / (\n",
    "        scipy.special.factorial(k) * scipy.special.factorial(N - k)\n",
    "    )\n",
    "    return binomial_coefficient *( (p) ** k )* ((1 - p) ** (N - k))"
   ]
  },
  {
   "cell_type": "markdown",
   "metadata": {},
   "source": [
    "<div align=\"justify\">\n",
    "\n",
    "Let us visualize this distibution for our 20 coin flips.\n",
    "\n",
    "</div>"
   ]
  },
  {
   "cell_type": "code",
   "execution_count": null,
   "metadata": {},
   "outputs": [],
   "source": [
    "coin_flips = 20\n",
    "head_amount = np.arange(0, coin_flips+1, 1)\n",
    "probabilities = binomial_distribution(head_amount, 0.5, coin_flips)"
   ]
  },
  {
   "cell_type": "code",
   "execution_count": null,
   "metadata": {},
   "outputs": [
    {
     "data": {
      "image/png": "[encoded data removed]",
      "text/plain": [
       "<Figure size 640x480 with 1 Axes>"
      ]
     },
     "metadata": {},
     "output_type": "display_data"
    }
   ],
   "source": [
    "plt.bar(x=head_amount, height=probabilities, linewidth=0.7, color=\"blue\")\n",
    "plt.title(f\"Binomial distribution for {coin_flips} coin flips\")\n",
    "plt.xlabel(\"Number of heads\")\n",
    "plt.ylabel(\"Probability\")\n",
    "plt.show()"
   ]
  },
  {
   "cell_type": "markdown",
   "metadata": {},
   "source": [
    "<div align=\"justify\">\n",
    "\n",
    "\n",
    "But because we do not want to accuse our friend without statistically certainty, we want to have a guarantee that we only at most $\\epsilon$ probable falsely accuse him. In statistics we denote this as rejecting the null hypothesis $H_0$ with a significance niveau of $\\epsilon$.\n",
    "Therefore we choose a threshold $r$ for the amount of heads such that\n",
    "\n",
    "$$\n",
    "    A:=P(H \\leq r \\lor H \\geq 20-r) = \\sum_{k=0}^r B(k,\\frac{1}{2}) + \\sum_{k=20-r}^{20} B(k,\\frac{1}{2}) \\leq \\epsilon\n",
    "$$(probabilityEquation)\n",
    "\n",
    "In the  following we show this in an animation, where the red area depicts the probability in {eq}`probabilityEquation`.\n",
    "\n",
    "</div>"
   ]
  },
  {
   "cell_type": "code",
   "execution_count": null,
   "metadata": {},
   "outputs": [
    {
     "data": {
      "text/html": [
       "<video width=\"640\" height=\"480\" controls autoplay loop>\n",
       "  <source type=\"video/mp4\" src=\"data:video/mp4;base64,AAAAIGZ0eXBNNFYgAAACAE00ViBpc29taXNvMmF2YzEAAAAIZnJlZQAAOdptZGF0AAACrgYF//+q\n",
       "3EXpvebZSLeWLNgg2SPu73gyNjQgLSBjb3JlIDE2NCByMzA5NSBiYWVlNDAwIC0gSC4yNjQvTVBF\n",
       "Ry00IEFWQyBjb2RlYyAtIENvcHlsZWZ0IDIwMDMtMjAyMiAtIGh0dHA6Ly93d3cudmlkZW9sYW4u\n",
       "b3JnL3gyNjQuaHRtbCAtIG9wdGlvbnM6IGNhYmFjPTEgcmVmPTMgZGVibG9jaz0xOjA6MCBhbmFs\n",
       "eXNlPTB4MzoweDExMyBtZT1oZXggc3VibWU9NyBwc3k9MSBwc3lfcmQ9MS4wMDowLjAwIG1peGVk\n",
       "X3JlZj0xIG1lX3JhbmdlPTE2IGNocm9tYV9tZT0xIHRyZWxsaXM9MSA4eDhkY3Q9MSBjcW09MCBk\n",
       "ZWFkem9uZT0yMSwxMSBmYXN0X3Bza2lwPTEgY2hyb21hX3FwX29mZnNldD0tMiB0aHJlYWRzPTEy\n",
       "IGxvb2thaGVhZF90aHJlYWRzPTIgc2xpY2VkX3RocmVhZHM9MCBucj0wIGRlY2ltYXRlPTEgaW50\n",
       "ZXJsYWNlZD0wIGJsdXJheV9jb21wYXQ9MCBjb25zdHJhaW5lZF9pbnRyYT0wIGJmcmFtZXM9MyBi\n",
       "X3B5cmFtaWQ9MiBiX2FkYXB0PTEgYl9iaWFzPTAgZGlyZWN0PTEgd2VpZ2h0Yj0xIG9wZW5fZ29w\n",
       "PTAgd2VpZ2h0cD0yIGtleWludD0yNTAga2V5aW50X21pbj0xIHNjZW5lY3V0PTQwIGludHJhX3Jl\n",
       "ZnJlc2g9MCByY19sb29rYWhlYWQ9NDAgcmM9Y3JmIG1idHJlZT0xIGNyZj0yMy4wIHFjb21wPTAu\n",
       "NjAgcXBtaW49MCBxcG1heD02OSBxcHN0ZXA9NCBpcF9yYXRpbz0xLjQwIGFxPTE6MS4wMACAAAAe\n",
       "GGWIhAAX//731LfMsu1Tb7YLqPeiniZfQ3UlAZuWxO06gAAAAwAAAwAAHrwXOAJfiQrzrwAAAwDK\n",
       "jpP/8JDHxAUFMF4h7yrJnuELMkIslyztnBuQZeV3TRlugjl3wveUmavnz5GiXBnQnTvAg+ZXbRnv\n",
       "x85NxC9gRCbMnf1xUIDH2kzhxXfnFoOxnAI/qsHmkJuKIDgWW5vaN2xSOsXpX3ITtgQtaKYm7uXx\n",
       "ri7FKO2XgCaS3yAlLfUlMXeVC2aiMckG+BKSRSvw6gi97Ii+rLPCUijNOdd+nkfYF4gdQ/tZ3wgR\n",
       "U87ITvlb8bfqsZ5MUIOOl1w3hrExpnj/rpqqGL2FHQRip+AMu1AiFPFX4e3+X45DhaazjAG6NI5e\n",
       "jwZEPga+/zX8tW7oJuUwkDdKxW/pVrg2FWK/G1AjREFpSMRxtf9khwnUzMFPMdZSY4fdRqd6QvXP\n",
       "n1v5nOOFEQCeg8sWV3Z/z/m8PDHf2+12DC6oms4MnnNoqlMxBiHriAtO17uiLPiN/eL7t+XaWoFn\n",
       "3KBqZ+smVnyHl+0tjRIXLHoMpzSCPDQo5/zYDyEKKqJ2Zjy6LdaLquJvvH5W4KGf56KwJ8fl81as\n",
       "bYKvhbkZKGX4FSl5lDvTIFhCfqWL5laao2+33BF+qb8SiSOSerV16qNJwyCFJn950Up6/QW7cUfp\n",
       "OtaJd14Q+6QNENWsUuPLEhXnQVPSj4VasFcIoVkMlevQwnZvz272oIs6LwNhf+AcVOvZZkyozfwU\n",
       "o1XBVRycAqlzu4SNqARyxPtukr7pyfwOJ9tdbtxjGnsudZknEg5GrcVXZONbzlCNL8ekVfkYZPxQ\n",
       "eI+BmGz+NZo7RXDayOgOuuKRxnRFo9xsO3hZlGulIDEZiWYc/O+5EBxeAxxSexDM6TO8YZVIgxk6\n",
       "H3U8YM/GItxnPe0DHwjKihVssCw6348B/GosWHLd2/oYnnFvKbEH2X+kHv8Rv38wJrRxkmTNdFTE\n",
       "405bl6V/arqL5u9ZiMV6NaW8f6BNs08G06fXMdaSdbHclYH426tavuAn/iSjXMi2Om45RTYWzntm\n",
       "guOQDmhJsdlwwq55m0fvwEHvAlxt2gWrLKSowEyOdsYYk17lg5S2Cm8tcxPCxIbprM3w5aX6UPq6\n",
       "PL84WEn71P2UOvKjwmig213xLf1X0uAsEkMuvitrT8DfPlEAjIMPX13upIjBtFz4E1TQ7azGKqZm\n",
       "4jMaCPHh/bEcGxQyIPesV0J3qwbunaBl0FoH+TD2BJBI1b90JPgBV/W6y0sSl6K6wDbUxrakq/g/\n",
       "dko47nZ9xswIXqiAuIAV/kbMeLYgPfPSUO76C4jtEaUP6GCd37G+sYCifr1BhsHmbj45umPerZBW\n",
       "f/utrGeesD62NL0q7eikrbGAw+2fXiSojPEoMj7YQt2oo9CZ2uLfkhfAS/2HuxQMSj5mtR9Mpev7\n",
       "vEMleP/ZGtaXnEU4eSHCputnRm2WExF0JAzq/+5qfTDvYmliTmA9iraXl0EXThOX6TjFHFp9HRIM\n",
       "Uy40zNLN0MysadbJZL/G8F8O6P63ZyaZ46wkvrNOiy3EXsGnxq/WbNhGEAS9Q3X/lLQSGr8xN8ct\n",
       "4M9l3Vxr/rhQY7ma2ZotDRRSR1AeI68DjRKx2J4nAUxQ9lD9mRLwESyA3u+KnHVXH597HfqJTkpe\n",
       "1iJ+JWsDk5gVRTuhWkSEj96wDFt7d0NTP1MTg2PqIApN1+81vSDuSR2qCLnU/ZRQ6WMq6h4pxMp/\n",
       "Tf98hWJZpHWYx/BiNNKaGBaww/8Iy4i8QgG781+Ei9OngtLYkFQnOTZwvu2XyoZpDIXMGm6xFzQH\n",
       "Bq1DqlGImduJvIAr+bGx2bYXHxZLqxZ1u07UpfzoCARf46mDJ0T4gAiexBKlk9PiM8NSEEunuP34\n",
       "E36wsoNdgfE/Z5WJT995Da8x+qmgLtr4EO72yQ0xRG1PAFruAZLPg5UQ4fnPdv1hr67BONAlN35o\n",
       "wpFYGWpYwPdI6qfC5n9APceH4p2zW/KllOWrey3yU4v4gCF3Oxn13Tcpx98XlIutxiu8Ys/Oq0yo\n",
       "u0Lp1ZpSrP2xeJwdInxOKhc+4jtFYyzij1LwNFElDtS0C/hNeaam+OYkg/zYMGxPQToMpJ5Tyn2b\n",
       "pujbaAyjhw4loS8Gqwy0kL2WQLebAKlo854gTDdh7vniBF9U4dLOoT2CdjvdpiCmEuKU+Zt4EWi+\n",
       "3PdPS2lX5UVgVSi0pBmSOv/B0DEuelOlJ+sIcFO0d9XN+kioo3GjkgzgouhmkPQz1lE5p6n4wXtS\n",
       "M1XJvF/kvIzLdCS+dFKE71+GUEnDAFxtV5J3+j2dgFYYXZ9HqFe3huqSDqr6R9BwF1BFDuX7UvBo\n",
       "Mu9I/HBkApHqrVn5kX/8LonZwgV57UhTERonDODjfKye5leg11XUBW7wcRu1DoA/5u3w9HPYLKtU\n",
       "DmBqzu6/1D4wOJyWmMIkmvMtz6ygCDa/34WKj/zGQz4BEi93/E7QeSTT///1doOPvREs9l1AWpVy\n",
       "OONVaZ8rbRchxx4prkMVgkyVtuePjDnv8iTrPq/zepaIfYj2a+4ZFvN/yaUc7ETz+ZQ6G0Qu+XLx\n",
       "aQ9QTJIHtfj41OWpM9EaiKqa8gqTylIZ1ldtypzsg+87wfCnwNu6oM+C4J1a6e0clL6yUvim3QDC\n",
       "D3xOajZ4bFAJ2KgQDBssA9A6NVkKSedqOlNokeTS40ZzN6Aba9YiMxDxLCT5GGtsOX78plOdzWpF\n",
       "zXrWrknf3DUQ5Yb7LHmTwIbNJP/OG+GpnKRQbIKwbavtkV5X1q/464kx3A7iUzwujiAl20C+LLTp\n",
       "QMqHRqsBeZUT0SeFZzggiNXTk1BQo92f2szab8r1dQ3lKtWlgE8NKXvYXw4f1uOLLx9B6NuNLg8T\n",
       "KhjTI7HP//vJxL0Kw5m/SPtGUvoFssz7AMGChERzW3dse6Cgy0ugm+gfqkQCF76EhOFz9fhDiUZT\n",
       "QQxzXAfXSFp5yyvBQkQrne+GtnKgUPbChrVhMqqA46n6Zd03XpminjsLheEyOYlF29CFuGhLcICi\n",
       "GOEPmcj3hEmgy7MVs4q49Vc8eaT/lVoW/8SgWdv73KcPtBSsQSI0y9z2ewKyxDM5WbSsyQ4mx/Qv\n",
       "9D90x/8w3UBuTNg8d3n57QFrgZqPjgAartdYfMO2sP3tNGn77tLaZ64tLXbZwZWZ3B9W0aWSF8bl\n",
       "x5E+WnlRXWP4AlqvP8LacH0tfgVk47uwdEDRm/Kq1sqMol9//iOkCFM2Le0pp7Ag580JfklYCc4Y\n",
       "7H4D27tvUmqanwmuLDA8Q0dlpXVHam7UrpMmxiIfjskHbN9XEqqhuBskSXmOiqwiHEkMEOe+8IWz\n",
       "Es/qi3+cWqyuRwlfdAIttpQH/PLF06RbPwaS4dcY2QFyBIWKeAgNxNlaktACjbW+VNzW7xGMK/YE\n",
       "A/4foshsnrjLfvHiQr//vZb79aoURVt9zNYvJizJjfNRkJl/G1VrDxlNMjC6s/Zubz2IggSL161O\n",
       "imVOJ5ZbBNoFfHW9M7quzTaHTE7+Zajdzwp/Nkq6uN0Ux08wyu/xdpygSfZFoImU4ovadZsLR99D\n",
       "WGmDAGmWWFb972KPHERsB+DhgHSA2khkuJ/d7SkvhsR9AEgb/cg7uMnLSpuUyRioywHAt5dFzod0\n",
       "lcX7QgAbIXVN3YAh/GsTnsIsq7Z/Hsm4f/bbnvDDdhGOIxkmqLqEPLE0GG93Ye9uQuRTvgDBOzca\n",
       "FIP/+Ja5ITrNDOMjYvn+lQ0ZpmjWuQ/RaoIxDeddt9IKhBEe9WdJcNkaddGEDCHRsLbueEri45t1\n",
       "b9YuMfdhwjjBLMhXB4S/ImyewTwPz65Obg83aSg0Mudnlsk5y0AqICxRsdbxQ6dHcFXMvtGthEOs\n",
       "O+IcL4oghtD/LilUy6DRnanemwYJxrhS487eltGIQNNOQ4NoUEACvVlVQ217VMW0/PPFg01E4PzT\n",
       "BuymLcDMCFWkBQyN3iccUZkJcx4+4XIw4p4N8lQ6jSgLlAs5TlU0jtWnhCTOaz+EZZ/zzL2GehRO\n",
       "CnjuNtLUdR1p9HgPWJIu5GbEOEfZGBtlXKfCQSN1Db0yieVQxp/KH16C+1KssbiyjmzmaeVtxUIT\n",
       "T1ok+FNZmag7IPJEBIFPo/WZd5LeHlZ297JrnVE433/lrtaIu/+d2NZalFgvBx35GbRWSt+DhYg0\n",
       "msHR2qv2O12hqBhw8XiGfwoW6P4i/oWUcVQUnzZ3f0LxxQJkgZThowAv1LqFObNk7KpBJJtg8Qwg\n",
       "nTDDzEFp+ldz+0NtHu6I5nepVRWcZt7lgxbPyVckGY1i6tQaP/WTeAG9KSMlD6PIqTlmyFZShn4A\n",
       "Pnl6bN7QaFca7u8HuL7oOKDuQCCBFWWx38JzoUGkes472DkXP4fPcUYAB4jqGR5m3lF3GrkhQDh3\n",
       "t2ThvU+ChXQzAyHKcnrZYsk14+GQFY88++S6iJhfembsC1B5kuveGFI1auaIMmMLLLWDAsAzQ+Lc\n",
       "b+tibsmhhWxlLmOF70pUw3BKVLBLQbmY9GWaXnTql8e+B846aIX2CHSdeowrBQIuPSJ8NjNeEu8Y\n",
       "IC3bts+Y4DBRwVUwYXPIMfIWmj/iMm+tYEjlfs0sh5E8hAHF8dkbfptB6NqXKpGtyWjCHFttXvfe\n",
       "x7wjdSYTCZTB0Lsq194aCJ4ow0G8wi5D51UGrT4dYDGTe9Wy1VPO7PmgW5q5lQE46wblrKx6zTvM\n",
       "tzY0c2GDE1wf1hoLGOws6H9Wz0ggVKIKAnhVnvD7l0hpl0F/NhtdCt8zbq3v84f2uZLKzhnpMDOr\n",
       "J5ssoQ4jpQRfxDHnuAljtUtpjTdTsM0WV9pf7Y7f2y1gbw4/RpoDZ09102PNdG9Tg4p2pQrthLRG\n",
       "s8HgvKaN5ypucsIVWWnRwdLTv////eyBoKg6EmQ/P50UD2YuMdoAWiSRjdY/OcU2Hp9HAMT2MT5/\n",
       "CZP/WMm9oz3Pe3eVhw7xfhG2CGh3Mmv7DXLJTH2BukYkEJMipzJ1U91n1UUrHEue9vEArgUaRfn0\n",
       "Pd3bmmSdRN3gQIWGVVBAgWJOTAgSLVgAEiRFgjqXEek2sp2cHWZH8Pfywh0vh5n2/0AABvDZNF4z\n",
       "yWc136KpNXiAPgP1XTr8KCMCK/yMIyjJ/MAJn1NkwK/9u5xGtyePDSgKrCLmJdGBQCf1uI8iJfZw\n",
       "gB5HeiasnNJN24nIX3vC7xhnYDalAt4UowRGbIH6zgRoyxlfa/CSaaSVqVPQDTqLiuoSj/gyaOyP\n",
       "Dx5Ss1I+/FCwLxsVvWdyc2h1vOqyyoJpjGlBZz88GYDlUchdLsXpjCJbsSvyIS9xpof11T5nYh7W\n",
       "oldAtxX1uj1FSQpT4luVySyF4qNPNRgSxhf+isLOhvVjDwdjMpQLosv7zC9Xr3jHZozwElM7zz/z\n",
       "61eeW40ho73bzjnn1qU6yo+wCFIqEi9yhzJi9KxKYtVeYd6gCBtBSnNFza8do+s0/gdCGQor+rpF\n",
       "LRU+ZOBBmFneHFOTDD/3BH8ftF5/s/8GJIJrIQxp9tiuQmSY8sSM/J7ERrMV1zWlDJ/c0TWc81Gv\n",
       "g685wwjuHwqWulb1Bf4LKIDhtJqR8GjG+YhWwWwD2Jf1F//a2NyzTxdJLXNuff4jYkbnXPe0xXoV\n",
       "Ph14cFd4hgZBIKBdPF4m4OEyIVt6FQwAxxcG7857qJE+JBomOqt44crLkSoO7mJUTMRKKj+RgQx9\n",
       "1QehGtGqnOXm3/5Luz+qRvKTw1XijGjd98/lwVco3ygnD2BQBk2yxx09X0sZ9HsXhHaO0DpnGL6m\n",
       "ZpjKbwp5P0ABJOH3hgH7xH5xWTqR/puwWPBhD2wHkjgwo3a59U8M+nVhQwI0gA+WvtYAAbgPgAB6\n",
       "qoz0ywCFxgyUc/4Bd2Vhvxf0iSjHi78NVRkq+XkTNc3+ttPm3fPrwQ7TSVzNHfwOCumEU8feH40C\n",
       "/nMpRUXiV/XPbK52VBadQvgE9PYjW3nPEY4hIWH+f7rwtm4ELBZBNFw9jSaXhARWwvTgEas6CfZM\n",
       "UNDVO7vzdpRjIRCV7Up22/9fq6x9hALfpfYPMwqCt/2EJ6lN8Oze7phCwnjoWqSIFKzqGHnYRWIV\n",
       "MYl7pOXXV9ZSnjZ69R5gW1EhcpCxyDx/7yo3Z0qeMEIWi0yhs7lVCdPrqYJ+5ACyY/2GreX1eR/+\n",
       "aVWb14zkUgT05WwqE5hnumaHAlPOk6I2BJQ5MW9SLf59c2sFpb47VKNOcb5Yaypm3626m6kTjhXU\n",
       "eqEmESH8d/xF/Jt8dHq0UF0kaMJirtFZMFKm7Ic1hMvXISNlT+tbBVSnk+hY23CJsb3cmqIdkP5K\n",
       "kNTNemlv/mY5cmRk6y/PnmCwB1L+1/+PDVcLxJL4iXtYMmxQpWnOoHigz6ahYSkbMXuenlDyW+qP\n",
       "y+Qt6goitWHKTFJn25vcHYkD+/pb3PVwv/DlZdFTtDFAPQ8JX4lMNpq522ChC9JMLjomZ7UP1lRU\n",
       "treaaV8784U1DDZcSpOoIhPi8hohS53BAiq3Ui8xBq2wANx/j6PQnL/OK8TxBNyvgZRUaokMs0Nu\n",
       "HKhkIg5aIXH2VPB9zuLsm4haIByoCiGr1i+I4ZI396qDaxY/Hh0cijGoNbx5eV/YLBphIfi7Jstl\n",
       "SAgrqzPDe268usJPUZlnv8Ftx8Sq7B13v/xQqcEBfqxApg+IckKDpB4gQNBCjFBI6//eLN8tfBXM\n",
       "utEbIkxTTyIK5GU0+PcLoOU5clOjfJNucpeiNOJyzXztFTuk6G0LzMS6Wqx39c9S7g+nLPEF8XFk\n",
       "6saXyUHOroBalrSrLTaHS26imtzlAPpwR167/qwu//xfDBscIJir5+MGBQbWApPWD/Rh710IMXtS\n",
       "ljbSh1bQvzgjp2xVOHsennIu36R9AoX6H26cpeD5G+Bk2EnD1EoAEkNj1z6UsGJsnCQC7lILd99R\n",
       "7qs0JnuTnGxUHUHfKS/UujeyCdY75TZCneXNWPtr6mMRJ/jy8N9ctWzXpIzc66TMqvnu6IeM3wKW\n",
       "whC33TF8+uRWzTVdDQJ/b8tZdhrS2UQBaI+TdgwhjKwNtlQH8bI84CbOITLHCG+QiBSLxba+IvJb\n",
       "sUFRfp2ePsSAN4tsxWtVSWB48h8/BMTPwsfzms3/Sv3dVXke3gaxO7POukUgaijj6ZtHJPWZ6y4p\n",
       "bnewdDjvgAJbSXHY2EmeQEFlTdb/EKmNbU+eDY9CuLXrMpjWu0HRtJRn4ux4i6zTxe1d4aTUqHbK\n",
       "HWzWd54DnFRu/regXwnZLzWX6lRrTxSv40w34qZujkW9aXxVo4Fw1nUMpHwLrvwWdw/cKTi6jWnM\n",
       "lqTATaMLq4IkvWavIsauwb6idLk9xGdm6+1Ul0NodtbnMH5UoiE6RuGI6KekZJrayrCygK5eOM7s\n",
       "7AleOxQdZL4ijdhi1HbILxs2E1B2mtDSRLO42I1a1AwUimOgrcjuSumMrfhbUELRlpfUX/4kKwxn\n",
       "MlfTVvNM6Yoxnz4c0YW6p8/L4VZe0FWqJtKR2y8Qm3AxpgcBkRlS6MJZxRX3tWwS0EsUdLbBKMOL\n",
       "/exem1ZPABtG//5BnpDOEKLewFkzKjxzFZ+PEeQ63BPbgavPijrh/r9xPGd6+3tgFXLqSeIzEu1S\n",
       "kjnvDzcZpnXx/4JSg5dSLtabWOSsYSEIkzCyXxcYceT6Kd+QNhbxe2NhgYElEjO81TpDeSozNMwq\n",
       "Eo1ZjuXyi5RxIZv4nVc1SD+BZ9xqdV3k1Nf8Tlm+bekY2PO7pKXOdjI2ZWw+RM6LmoFgwkpJRpvB\n",
       "ZSFreHhU+wFtTnNH7iUzQ2q9pyhaasykdYVoHx6XL1l907EL7UzqUzUwZIV93A9vVE+dw5CvtZvJ\n",
       "Nq6OckUXEBn4+CRmXsR+V/PYxvAR3phkihEF34p+yJWxAoMB0K2yN2GV/ZhQJaTEMOBIr4AhDs+p\n",
       "53x4dN3V3+01KckPZ6dxWa2AmSH/ujbYcx8VtHGsUkAcbv1f27BDGhe6jZQaNaGFtziJj6N03cKR\n",
       "OahTUAA/OMqMe7Lo+78JM6xAofRuvRID4yhumzTV7qzwfNMH5ohSg9T1Ml0iN8Na4Y7gomnFQVsu\n",
       "7wIeNAyexKB+xHQdmc/zgHAI5Tagbx/MpNLXhSFOnvtpCu3QQsBUdB+uhQArq45s3ovVWXK+VHFi\n",
       "xP+6175W3nWWWlJQ/xPILBUaxadO16DSdJdf2awplMlrRgsAD32jbat94xWJvy3oSOgCuFCi79Ob\n",
       "4bkpxevBJAXKbQAb9aiwBfM5R/3z1asD7iJ6aSrMgRpVSqvO3DGwh38PoTG8PymMRHeuKKxL8wIM\n",
       "Rh1qrkZ8GP3pgPyELwK8WBpt/kdUWQ26HcYlL1zJIQCFkM9uFY1uCugKqEeLz453yrxZhg40RKU0\n",
       "T1CnfFe5cR44SfKJWbyqdrF7qngQ+S5WIGcuvS4Jf+btzml1SDLhEsnnINkXKypClL+JurAr0mPc\n",
       "oukux6kZBLxBd2AmiELoAkVZYiPb5bARQVIDtK/pxHxJGMf/XAAYb2PG7mqfL7JuMQhAMgtmB6Os\n",
       "VMV8agFOAf43mvTrIDfSwa09HC39yOpiN0kTiCSCY3yjlCBoY5frp6PrzAfq9xufcfaerExWNhx9\n",
       "8C+rSjBXCfdP439JJEmjL2vsG/f0Wy0JNSaUMEN3Z1WZI7Z1ZVDnTVeqnqS9P0ZKKgDR0mRqUeXj\n",
       "gEFPEgruo1Si0NX7VqwPuJMAnJNkUjvbk2lHPckITdoC6GqUb6/7pfwvg2+F/E61+TtmJjZkUaem\n",
       "iWnoE0AKHl3APtkiRnk8xWso2PUeWxDpvlPQiSMR/dla13JNOmbvDi7XSjTBAFZ6VZprd+B3dYIw\n",
       "A4YBojbG2z37RY9/lSn3rMy8tZHeqOCEU22zAkq1O4fNBkxASvETZKjlobybNkhINwLfiTxhkNMW\n",
       "qYDhpOYUeN0Na1tgL2xZ9RXm6QrDWXz4UFbXNdiYsM3vk619KmzAwJnUAU5E0efzSOFvET00lUMn\n",
       "6RrDGHWBP3JtMcJO1Zsa72WFDl2Rs/E5EdmbhO8yZ7/1RR8zyDRukROE9QHC7ZYUfEn46EAdtOPq\n",
       "fViZHvywfFjtv9786sHItuxOUDQ4oei7k+nULZ85MLQBHJYxh/Wfx3XnlTHJ3KaiPFXVwuVdI9dt\n",
       "W+Q/yvIfHyLfMTYYjd/rmBsdUm2CVl1QsYsvhe7x8PgpigYg26AklEmEB/VAzJYRtL5odNt4jvZt\n",
       "NxMZpbdEJsJ/fc5ef3C897YivAkHIU8N3ZtPh98ebaj14KeHjbMjX2gpGVaviQuAOo8XPs/gimLu\n",
       "/kmSP9EzyiCtWi6D58UOvzAyM04u/flhcr4FioJLDOnILCKigTblZPC7aec/QJprwSpdpHdB9SeZ\n",
       "MYLNeCdvLmszcR49ExJ95Tm1X7cVW/b+GLMAEE3ile9mdvLkJ6wFUlPKKCDOfzzvNQhnI05Jvw49\n",
       "hRmjINQpjAHOBaicBEVDT6cci/nHCp7t06tJmy0SrLTCC8k6Do3hcd+3ETPU0F19T4m9u1ry+CNE\n",
       "XHLo+YH93dUCbXGqgSyJWjXHDwF+2gWFrcaNY1dZZZNsTcv+biLAZWPC+ZU23lAHLWHnbm5TewTc\n",
       "f6NBj+hft7p8m+Gm+7H5B1eK1qxoyWE6phZ9DK2lG1DctRseyIlK2kWvY/o1hRcIZduK5etvuwL6\n",
       "fxHW2OtZPtsQZGeyL4h1kIUx7BE/EQSLXze8nci67Y48gx2HAHGYi5++U3+rw60+phKvvzK9tiuH\n",
       "Ky0+6yvBZ7I5qe6HzMKjYs89bbHkmv2MdqShAXSf6m2JzC5fuDjpPxCrVsLjqEc36Gdu1YXb7MrW\n",
       "EwEyzwu5PepB5fC4gKK1x0njyIe4HDjCzY2zvZe29cfDpOo2uO6DyeyxpjdJU5xjUSf1tRn0UOEW\n",
       "1XcqFe8W2v+08nrdN7xoTHDkfbir5Kci1FuahDTfxuqEEsq70eWdAQL6f1ZZd473wi2xjK8M34s7\n",
       "TTlTNZ6/8NdUCyFFQt7VEVnvRqEPp93YW7dTWV9P/URDd0ZVoUzNrmdgzDDxGLwMw+Qg8cdmzOVD\n",
       "cQRH+Gwyk2Wo0VTFtTE6iXso2dIOTbT7IYDRi3Tu26xI/nw5cR/NKAcl6DPblzH4nbevBj/tBnWw\n",
       "j/WSuPDdaygT5lfAN6YZUo7FKIfJgUm7rRnecKKxcEWxpgdelh/Rl5zjq7txmP1gcqV6v1ZntZkm\n",
       "VDeVVWRQWiVnev4f7mjLcx7hrlrD8VEfmwKZqm0d6u55uLzQN2DRiu0UJ8YSrrc2uWHdSVe6IOhJ\n",
       "QnrRCbTC4ABdwQAAA9lBmiRsQX/+2qZYAWUgSWYAQp1pRRMh80AAAtk31cNYlDA0XS+T9oqGXS6V\n",
       "dtcNkXaC79gf0LSsjBLG2Lmgq+QrNQ/n/qu9lJwGxvkt0p+IHIdGWYhkhv5z+dTWSR8EC7ugOQ86\n",
       "uaxvBURnULDuJ0Ob2D3UcIQUcH/SpmvWx4qVgIijKpjsW0CDvlJWu7AcdLAMscBG3zZDmQ2PNQXw\n",
       "g0cWRLkY7AWa6+ARijbeuxsIP8TlUY3I5+L7/3EufQVfFRkX8P7f6LcmRSWV92/xqQeeq10Incax\n",
       "PNTxvOduf2JENO5/Wmwu4vGRAscw1VmBdXfbbD9y/z8BSXVTdaD7s/i9SEJGgTfypOwVUx+KJk6y\n",
       "oq696PgFIiYzAEi59khiJEW3OkPdNFfy5Y3rxBvFj5KiGSgwKlfRJ00WgFQzWEvDNaxwJR+6OLpS\n",
       "PhZ9kk4fsGHOXAkvo2WPPoh2jp1Oi0C9rbXp7mVSKbiWFHS0Dno8sNgRxJzzjaBf5BaTpnSsDHrJ\n",
       "ixoKXT6WedFzZaf55pUK7JMwL4oevFW0yIzokYaL6UatabVcW3U4/QMNg45iDNn6t9pYC/Y9Ferd\n",
       "+DGi8WeHSadsMBQ4ejPQMW7l2dwaljGYiNMU9MVYLZRjWUIC9UQG0+WJ9FB7PkPZ7nh9/R35fxbv\n",
       "OzI81uyGNxmH7frkXK+Q/dIvQMKA4AOCwMnBrDOleKxXG+j4JwmLwNVkgNAMndXsC7YNsazIrxtE\n",
       "VJBKCR6RAP3ESjwNgO1Z6+jISojCp41WIeSKLHZDtQogi3+R2B3Rhp1udyGhTP669loIdM8lHqqz\n",
       "+TNl8iM+aHkFXlU+AAwx1gXcd4PhwsebwLE4HPZ6nHD1VUFxr05OMnKrVWrUX33qtk1HJ5C7HW6m\n",
       "7bXIigUJM5NXW3WzfuW7AgT5uQShk1JcdcsThDgYvmZ8mPuBGd3fE4J/8OYB//9IAlkNm5rrK+Cu\n",
       "oozvrWDRBUZx4cxS1gvXUNTYDKKGHebFpsbDLPyT8x6Uk8qNVZWn+t5JKwNYZNFK4S3v50eXqV+V\n",
       "dZQucPlpgtUh1tOsUFBjXiiZArjx5+BM+RmIllJUWPMoh0zflcuX4dAkeFJPqb5S8e07vorzua0Y\n",
       "sWRYfTx8gPwKnu4yixcc9JZmNjxNnIuLOM9Jdeuge08fXdLGe5OJTesWWJUtjpB7wFUJjYnn7TYC\n",
       "oRIEVaBPE6GzXkTsqD09f5dCzcygYItPnHD4+loF6Xv3yME4qVYi2leTXZUClAzvzg7BUxKd03VE\n",
       "MBJ9jUPWqMgFRrsjWwr5/jym3h7oc9rauVLaLvrYAAAB+EGeQniC3wAAmikHrpVsBQXcAEKqdowj\n",
       "b+FwuTGSyC8CbdaQCN448tlX31gn6iiWHbq4bGpPMurkK1Ch05OX0ZQHZa7+UsatdKBHCPDUf8Ow\n",
       "9KXL8Vx9JXwZW6BISp4CrjDE3Nai8DmHMPkKnEFa6tW4OBBDmkDU2O729TyFN0HJi/ABWxA6Ixhp\n",
       "LTHaTtmxLTPxoHla+XgyRL77S2aqgsY4cot21PWjhz2jgU/IuYTe9MmhCKdm0kRjp9cCIWLDiw9M\n",
       "8TCZlkjMjMYSRpYKfsYoolUAxdczuDyhcE/gzUcf8m8lPPM0Ilm6kSsdYH2FGICxsobvqRyE896k\n",
       "x/svi2tfFPPWcDvyo6D4wMTvlqkTOB/QMQs89r6/ALhxO99wM3SkoIL3+AVM3tKPiy5a+WeuGdff\n",
       "LYHLF4DXrTHkLHZLDpSlMtQzqPkdPWACPGtFR05wjhVOv6MN3lFagLmMFlyBpRWVmTJaXOYo+4Fk\n",
       "TnbOXX3PrLTBcrbqdynOsQG62YpQgBGHrjA2z+1Hvs9utfZ32SnhreS14V9AAA+QBwExG/JZJMYf\n",
       "BRuERCkYQ35jM0NIrbADAzdmloXa5qWPuYAYYXRy1I1/9+pF9RhnJi010ZPHFzg4JZRgKTlQYB5C\n",
       "pHVm/ZFxsqOnLTHkL5fTbj/G+JlfogQBFwAAAH0BnmF0QV8AAOzZ8apfeslq9BNcLKEH+u5vjUAC\n",
       "IDuKCqm97EI0gGGvQenMcyTeCxfRf8An0WLjcr9j5CVFujcVrO/I3vwxtWIP+vejVDa1byN1zYjt\n",
       "1k/qznP0v3oRPF5xZm/JX8hhg5wAAFmEr2BTnyjtKl+OMFtiEq8VsAAAAV0BnmNqQV8AANdbQ12/\n",
       "Rt9NpbK6tNYAQodmXto6VC9MTWFvF0gfVVLik4px2sICkGo1k/YJWfKh735wZVngdLvOY0d2GmES\n",
       "zcnlS1yanj4l47+zgEAh2AO2z8iEe0IiDP7ahz49ziNtAOLVq/tJ9Ss8DuGq7yMYvQQMapu2iR9l\n",
       "Clo40+UyQwrwvjXSSt/NO01Qj5te4y1GmYocsC5xfxcWz3id+6ysDKwZdOSjBqaBsSGgcailfacg\n",
       "LCx9+6gp7iyqkp2jQtHmv+PvOEr8Iv6/KYYPY/Ax8LDfUmSbGsWNnLW+3oGUs+uMjlypSTXp21+U\n",
       "E7oOixQSxqJw2TUj6/xlolhMzL+YUz4M5wPtvWK1xykAAAMBuMDhBZGp0hr0oX7O/d02p0mUZJBq\n",
       "gg350g/4RgHVgFz5aPe6gzw9h2ZUz9iuIADMPNoKxhrv95+f/o+xmyJThwM58OF+L2mBAAAFpUGa\n",
       "aEmoQWiZTAgt//7WpVABQdAWAAA7NyygGX9V2cY/oeqzwhMgfyyTlGxiIWtxL9H3SD5P6lUYvxBG\n",
       "mmjnxjY0TEDpSJ+/SDTfr+Bcf0eJUSMK9EiH/3LLRgTcrXPIV+g3M0eDRsWXGa4eU/dgfpHXVSsb\n",
       "fsKnbll30RrOSII4Gu8r8D/jatZYG1+V6qWGS+U9jmiU9edaOhTAczZJ9TAgIpxOsshE1KyrNCdp\n",
       "avGzaLWgrWzlkvyXdH+w1Dc/0zue9HKUTIgNn8/WNS0CtVv0MrbUevN/dCC9mrhERci5Bp+5FtEh\n",
       "rOlhFKHo1MZTE8y9X24G1wT9WDi3a+NcRC2UpaVorCdBLeRKW7+P8J8hwEaWk6FXNvezaczoBSUG\n",
       "UcPNCBsWB7xwU/8AvU4E8gukwxCSzmJ84+UXE76+P0R0IGzJTZUyN9Z1S/blX153ZwxPxH/8M5yJ\n",
       "bpQvTNoGO3huUawz8Y63wO63gPqOxq9ESUivIYyrkxoOHEuksrNLA//5igE7SEZaHB6hGrMaI9Av\n",
       "NqnjIar7NxIu+CCtodsVbbt7ai5YqSq/4+vsY+1T3UyMXztflPkC5np1EGCDZnbDuN1rrOF2O4Q/\n",
       "hX+fTEj5UEUwmI0a26mO4LiaTKJncu44B7AWJ5ewUcwmnCcPP0t7duWN+bnHaCk0XcWYq0BqCDis\n",
       "2iiFiES2LKcR+e0EINsldo9dnkCCruMcomTxhJSD0XAtamv+z1sVJO6PmH0we2GiHL15SOkJ3E06\n",
       "xRf3bFrGLJJf6y0DBvpcmvClorqBSQo/9MKxxzp8OAqiD8BVSFMf0473V9DI5f/R3jz5DNv9BocA\n",
       "9AmI9/9b633kTMrxqgYbTNZ+KcdaZTkt4+yvnkoueX/xy56irCiDRtgIhm4dHF+/DdyIYkD4kH6d\n",
       "LcybEwWQ5csA+i1ZzPteIGNYao3SXF94/AsxQP8yZQZGOMJFTgoJdBpbphIkWk2yUo459gOsUCu5\n",
       "P7LcAC6ePBHUBLQoIqUfYVWTPA4AkZpydJJiDvUD1sE1hlqI9LPkqVKldAOykjX43skTuv3xUMWq\n",
       "ypz77B98Fnq6aBVO8CQtsJkU9TCTjlGUy63G4v2a0IghS8T1sj3f/PZX+Di8skgdR45lluBjQ+dj\n",
       "GBtM7y90tN2xZ2QuIGcZ+6nwURd70s4d6oNkIGXfiEvmyD+Uuwmidn1UnpLlZBaZw8w4Rsllof2t\n",
       "e99IsKHNTIdsT8VQQ6X66vjxo3agDU0S2t75Yupbrg+GYFns/AbPL2MuKoCtTGI5w09MwzR8G/rc\n",
       "5jMR+V8xxYpQPKPcN/TYxKOlB8dgCz1e9sKy4xCj+tM7fkIOgi1s7E+U6uDAVynV9b7nzqP++Jjm\n",
       "PKckBzhff1A8KGMdt4BzU3KDbvdXXOZBY347PNw6dvvOa18l6X9whw1XrTDlczQ2vNLvUDB7mbuU\n",
       "spFYYzIAefMSv3vwhLumVwHfbxicn7YAUUIWAB3vQRgJRy7JMT80EIucG5x15fH5kijTzsqNcHuI\n",
       "AsttzRpeJUrkCFeYmOaBti0Q2mdYsyJH9iBn7UX7kQcQMqCNhf8o1L+88QW+fFJogdmCWZoFRgSG\n",
       "xndEO2DnKBo0Csy3tTqvDqPx2HvIVXc97LtjFFIb6zfR9oCYXxjhyqnhbt/LhVLCTi0tH5bn+ru2\n",
       "ZLXobVSRrt7vqh/FkHZHQD2zv1WdzX9Tldt+hLKN6fxAP2WSZ5zrWNjSbT/kgZUuS1GxdhA3sobv\n",
       "XxxCkqIrSL518h071LIARAnKC6Gyf1L+Yr/pefxhiNDJ7KuyFz9ajfXgB660fdFxq0XKadLSjkLd\n",
       "BlSiyv77V8VzDZAPkOACzUxOJuHjanFIeu+fVXUaZSpeofXhHhO5hvTmsISlzZ0VCmS+Wpt7p20/\n",
       "eNWKMmDFmDiCfFjeXLFrEwelAAADskGehkURLBb/AACJK762CI9gwAAiA8JMyoEzE9WIJNsr0/CN\n",
       "RUzl9TFqoNzonBxVouCtsurH3t1DdawDQDTZaU0oo+K4Z8IEEl4DhgQXDV0K9O8GtFNAZi3k3gCQ\n",
       "GMwevHxcBCjIln2yDfxLnUBKVwmIZjFzcx+4T+VAOGnPL9353NjlYH8CnwwlKFDBquZBoCAxK3ug\n",
       "D+5KPUMxJAkAV5kSy+sUfGd1Q1kDQDjMhT/AQQ5ySX6E0KBLTMZ76C3lYKup1REplRRkVEatWQCb\n",
       "czYJ8H+Mb/dRvhKyj/j5g5wS1J17DdU4kQ+TJP/VOouxPi+kTu8Y1jl+4XrLUugWQIpu7ad0ZJZj\n",
       "oeZLdsghfsjzqmM5RgJf3m1nTeVVGTBV+h+72hWkwNXTkwNeAB0pYP95ofs6Ev7Gl//R0N8RUkQa\n",
       "UxeXeeU9UkU+nXpNiaR54PBIeNTeqwDIhEngsxo+keVPKMU2pwP5N+FpwspTfiXSh8NIb+mqa2gv\n",
       "n5p5FQibFenZQXHf+dcGx8gxmL3evTN8ONiWNJbSV6GB7EedQf8CbQ977dh//9WAmnYX5x16ocuf\n",
       "524kED2ckfCaIVJcQEdnn1s8GhobS2SJ8/HIM9WFqqCP8wYZYX8bltLKlXj/6rsEmrKlpSjgyjzO\n",
       "5A+6Kl4l6Pciyxcp03KBTlDbYcYJiGxY2ut7tFFmusEAeAi+Fh88PBlWyryMnhBW2ljJDA0qMDXG\n",
       "+uo2+8gfJGzkyMz2LP78EH7uQEFrQE1O8nDbw/DTtLQ0X4MsW+mDrgDF/6U82HmMYZ8S+UWcQyIV\n",
       "uceKpxKL0whDrA+dF8zC/CrEgwyUg2lAij1Eopmj1CWp2pgerntWpqXIIX+wCJ9Ddr4+P50wPq4Q\n",
       "H0hUQfOBCUnDnfhSrrVAfOl62bnFe8sLOC1/bTxYEkGr9bp3krFeGDqpnz9zMy4ReS6CbnS9s7gR\n",
       "riMX25W4i2RHg4nmnE+gkX+dN3IsQR/wV7yvjq0047UG+pIShW8RQ3e7t6vNDfabvSIIEIL89y5K\n",
       "xEwJIyHG04BNAXpEKr0whJYHfjNos1s6/YIHSqLfS8GUIKdlV21mAuRZg3R2NrR7Zlfu5jWvo9MY\n",
       "OZ4ikN2Gjmuc5d/ILdY9jTvkM0N0ig+Bj9um3C9kZiI26El2vxSque+PyqVuVgmppBCzXrD82V0v\n",
       "Wgwve5f/AP67BMbqDrbkaKrxkmZ8by+jMNiB0MDezgfy+i7UOXP1cHYndQqC3HDRf385GtH044EA\n",
       "AAHrAZ6ldEFfAADXWuqIANq37m7ZITDdBdIkQZWHXvL7AtkZJYOIBy9hKD5rRjKMeANq0VkWKpTP\n",
       "UpS7xDu0Tl6GJgXLG6JtJFq3h4FAW4zW/8w3/kqPGptDz+rXLhJMkwXfsHLfzrf4hOJoh0geXy+F\n",
       "Fp+TDJBWtjBiD3ohvnfFitHTTLE8wJUoem1KLgEKNysZ5BBUN7mn8zlOLj74erjXpu79ChWF0HfW\n",
       "DBJmu8jABfQXFgKhYJy+H6rROn9gUz1pJBtwkQlEerwFf7DlLdL9+ytzgnbBZAbkxWD29uyYK7sq\n",
       "GFPWkv5xdODkwwMpiVHJrBX/C4owpAuVKaQKEUAACk23iQNAv/Jj/ffvCSwvr2lKe8bVNmWeso7I\n",
       "Zq9QARJFq9lYFl5GKdlH4HZou8EtwztOsp+Ub+I5tvW7o5e5QFdt6okJsMeAo8L917VyQhu9R0LG\n",
       "I9/IdFYN9BqUqoXrXmkyLGwPMO5A4Ly9E7FJtw52ItWtciw1gn5AA7TFzuyk/iQJb9+Tkh1VcQMR\n",
       "GsKEqSUY5MIkKVgCY0VSUX+quJl4z+ek/uXKOlovJxwVnco+VcbuoLaKnFDuEYY3gODsnZInzRpe\n",
       "AcUP5yDUbriZClOkskhx6bwdjyqXNjp+sgMl6eClGecXyfx4k4EAAANeAZ6nakFfAADVGmR7En5I\n",
       "xY6z6CADZsM8vqT9xDgXbSstmsON54UFS+jrQhhgtgRsYpNw1hMViqigHNawkqq24WZJa5UYEBCv\n",
       "qqZVbspLZh/ss6ofgz7mK5Y8yDP3+CFO8sZVhkLLtuqUzDuDTZdArdBkihmVCjes4DInV6q/r3cw\n",
       "eM1I1jIydUlPtAbb7B9IYrpw441TBKz1UEF4jO9SFD2m5IK794bnX/LeL4QLZTzucSyLY1Vw5sRI\n",
       "OZmBydxn70KQ7v8RPzmTdu/I0yNE3H2yuzpsaew9wxAFDtZpfQ9RMr376pNjXTTEkow0/Qf9CLiG\n",
       "8bEpY+LdVXCcrawLnJ815ywgThKOBwZbx88lnDKVjXtMelJ12gvwCecdd6eJIV4S/auR3lEL81QA\n",
       "IUARTJYPJWb9saoWZtgpjSaDON06ExYqcoaGXthyohZ51xQrwrYDsky3ue7NKa75HLdXfyOo4mxn\n",
       "Dv0Khup/DHLFeWVv3bWC6K/h24F8IxP3YsZFiwkaqWpOSevoRoEh8Bglk74Ejuv7qFZBI1Xv+maX\n",
       "wujbATDceoWxyHbqzLpP+BJt+4Zyp//hTJlBH8NRhvaAdetsMIEbhov077eIB10qa4eyLMDUadvO\n",
       "aD6DFPi7TfrDrKNBnRUuVZ9UtW1bKZQho8QZ1jd5mccHKvvJ/ldK7Ew+hdY2uCqwzQL9C4ZPG9QE\n",
       "yGaoo3be3J532Mu0/UEHpazrXjnBzDSDLGgRB9js3ip2ewwEIRy9OwcEqbS2xSHFNAYNHaoSRcuG\n",
       "v5qSDAfr4UHPXjaeAz0yxTdaG0RL7z+gJRjOtWh4yLATjMw0T2l4qC/dcl0X5XMb4DeCQu+4M43p\n",
       "XbA5mLElfw5U/45zNafaNr7yWWjNIDkCGTd4GrmTbk1BeeUuxYhWYywvnWqI096iLV/2P3yFhgYf\n",
       "oDOV+fGP15Uv7ATEKvEdveYXDdF/Jt4Pq+lHqZmaoA88vI4iwYGl9tbR+AaQbO9uYqGIlYvT1cTM\n",
       "enA2VRfiX0bvPbC6qNtEt8UnwmZ1wUumqESMnBv93wi2b7tIdSCYJdXzKU19Wf+/TsEfYvzPrQ8a\n",
       "hcpRt7PPMBqblVqbpoc1Jzpi8bts6KOZbQ3gWLrnEUGbau/bUKWm/fVmpy3iYMRdMAAAApVBmqlJ\n",
       "qEFsmUwIK//+1qVQAUF2MyYAEPHS8/swNbuWf7L7wvFn9HMCP1Y4WeHLo1/EhbycnqQVRzv5Fow1\n",
       "oQ4yc2+QwBsMCuTugn+mrM5gkhc7m0BWt1AxU47T2c97YGsMna8IeyZP3x2HPk777fXuXZP+1D4r\n",
       "hUcsFQ1j61228Z4iMDDeM3XJX3JaaK0wsV6cuGbIZdKXFxMeG2/VLB6BD4Ziibn9tJO4iOBmKg5e\n",
       "e5i5bZ5MspRSnVMdsGaJhdjB4LofMwCo5LcrD67zgHNCl0G3NemBrFiXy/+vJPbtoMewZwhDo2wo\n",
       "iAI3wEmoUvWSS1pZTfoyqalWPJD14AGYwllfNU/reW2mVFP+MLIPF+X8ccnAGQw1u2+69TuANHut\n",
       "JLM54PD+EVWy8XX8Ea+Ll0Oec+BGd0QsAfbls2Sk+DmFsOZxuxm/cvI5//M8+gjpW50Z87Vh7WwO\n",
       "I5rE4o9Fze7N3Nmf//24jS/TOP5I05CIzu0Rwx/u03u538xOL+8oKo+8M/xF/vNTLcgsLPhGhQWT\n",
       "mSxSqJUEnEczd/SE3E0CcNWqjU0N5xuhRps5hYSljy3q3lvmaELDhFRz3oZ214pybYvvbKw4K7JU\n",
       "BXVkz4CUMaXkPydfksaCH+n0CRy5JaLhOWq92XAsTvArFhAd6oU+nWMJXP8Y6St1nXIc97FJbNuh\n",
       "zhCnaGuVf1frs6F/kDbXBSDzuqOYPOlDKYAduL/nfFFj+oAUFGmTj3d/Qme4AM7xwWvJIcJicvnv\n",
       "REm/LPS68D1HKAM+aY7MHOzY3gALSZM0b7aiYe04dNNpjsVGh9Vde6K/X82HciVfMfJ1sKeiY/lV\n",
       "qXlNm6Z30ZsYBNPrRPNv8rDIbljY8iLZC0DbokfMAAADqm1vb3YAAABsbXZoZAAAAAAAAAAAAAAA\n",
       "AAAAA+gAACcQAAEAAAEAAAAAAAAAAAAAAAABAAAAAAAAAAAAAAAAAAAAAQAAAAAAAAAAAAAAAAAA\n",
       "QAAAAAAAAAAAAAAAAAAAAAAAAAAAAAAAAAAAAAAAAAIAAALUdHJhawAAAFx0a2hkAAAAAwAAAAAA\n",
       "AAAAAAAAAQAAAAAAACcQAAAAAAAAAAAAAAAAAAAAAAABAAAAAAAAAAAAAAAAAAAAAQAAAAAAAAAA\n",
       "AAAAAAAAQAAAAAKAAAAB4AAAAAAAJGVkdHMAAAAcZWxzdAAAAAAAAAABAAAnEAAAgAAAAQAAAAAC\n",
       "TG1kaWEAAAAgbWRoZAAAAAAAAAAAAAAAAAAAQAAAAoAAVcQAAAAAAC1oZGxyAAAAAAAAAAB2aWRl\n",
       "AAAAAAAAAAAAAAAAVmlkZW9IYW5kbGVyAAAAAfdtaW5mAAAAFHZtaGQAAAABAAAAAAAAAAAAAAAk\n",
       "ZGluZgAAABxkcmVmAAAAAAAAAAEAAAAMdXJsIAAAAAEAAAG3c3RibAAAALdzdHNkAAAAAAAAAAEA\n",
       "AACnYXZjMQAAAAAAAAABAAAAAAAAAAAAAAAAAAAAAAKAAeAASAAAAEgAAAAAAAAAAQAAAAAAAAAA\n",
       "AAAAAAAAAAAAAAAAAAAAAAAAAAAAAAAAABj//wAAADVhdmNDAWQAFv/hABhnZAAWrNlAoD2hAAAD\n",
       "AAEAAAMAAg8WLZYBAAZo6+PLIsD9+PgAAAAAHHV1aWRraEDyXyRPxbo5pRvPAyPzAAAAAAAAABhz\n",
       "dHRzAAAAAAAAAAEAAAAKAABAAAAAABRzdHNzAAAAAAAAAAEAAAABAAAAYGN0dHMAAAAAAAAACgAA\n",
       "AAEAAIAAAAAAAQABQAAAAAABAACAAAAAAAEAAAAAAAAAAQAAQAAAAAABAAFAAAAAAAEAAIAAAAAA\n",
       "AQAAAAAAAAABAABAAAAAAAEAAIAAAAAAHHN0c2MAAAAAAAAAAQAAAAEAAAAKAAAAAQAAADxzdHN6\n",
       "AAAAAAAAAAAAAAAKAAAgzgAAA90AAAH8AAAAgQAAAWEAAAWpAAADtgAAAe8AAANiAAACmQAAABRz\n",
       "dGNvAAAAAAAAAAEAAAAwAAAAYnVkdGEAAABabWV0YQAAAAAAAAAhaGRscgAAAAAAAAAAbWRpcmFw\n",
       "cGwAAAAAAAAAAAAAAAAtaWxzdAAAACWpdG9vAAAAHWRhdGEAAAABAAAAAExhdmY1OS4yNy4xMDA=\n",
       "\">\n",
       "  Your browser does not support the video tag.\n",
       "</video>"
      ],
      "text/plain": [
       "<matplotlib.animation.FuncAnimation at 0x14701e480>"
      ]
     },
     "metadata": {},
     "output_type": "display_data"
    }
   ],
   "source": [
    "fig,ax = plt.subplots()\n",
    "coin_flips = 20\n",
    "rc(\"animation\", html=\"html5\")\n",
    "\n",
    "barcollection = ax.bar(x=head_amount, \n",
    "        height=probabilities,\n",
    "        linewidth=.7,\n",
    "        color=\"green\")\n",
    "\n",
    "def animate(number_of_heads):\n",
    "    probability_sum = 0\n",
    "    for i in range(coin_flips):\n",
    "        if i <= number_of_heads:\n",
    "            # the left first bars must be color changed\n",
    "            barcollection[i].set_color('r')\n",
    "        if i >= coin_flips - (number_of_heads):\n",
    "            barcollection[i].set_color('r')\n",
    "    probability_sum = sum(probabilities[:number_of_heads+1] + probabilities[coin_flips-number_of_heads:])\n",
    "    \n",
    "    ax.set_title(f\" A = {round(probability_sum,4)}, r = {number_of_heads},\")\n",
    "anim = animation.FuncAnimation(fig, animate, frames=coin_flips//2,interval=1000)\n",
    "plt.close()\n",
    "anim"
   ]
  },
  {
   "cell_type": "markdown",
   "metadata": {},
   "source": [
    "<div align=\"justify\">\n",
    "\n",
    "If we would then want to have a significance of $\\epsilon$ = 5\\% we would have r = 5.\n",
    "\n",
    "</div>"
   ]
  },
  {
   "cell_type": "markdown",
   "metadata": {},
   "source": [
    "```{note}\n",
    "Nothing can be concluded if we do not reject the null hypothesis. \n",
    "For example with $\\epsilon$ = 1% and r = 5, then $A > \\epsilon$ so that we can not reject the null hypothesis. \n",
    "In particular this does not imply that $H_0$ is accepted.\n",
    "```"
   ]
  },
  {
   "cell_type": "markdown",
   "metadata": {},
   "source": [
    "## Excursus: Exchangeability\n",
    "<div align=\"justify\">\n",
    "\n",
    "The concept of *exchangeability* can be seen as a relaxation of the typical *i.i.d* (independently and identically distributed) assumption. Informally is means that the ordering of the random variables in the sequence is irrelevant for the joint probability. \\\n",
    "More formally, a finite sequence of random variables $X_1, \\dots, X_N$ is **exchangeable**, if \n",
    "\n",
    "$$\n",
    "    P(X_1 = x_1, X_2 = x_2, \\dots, X_N = x_N) = P(X_{\\sigma(1)} = x_1, X_{\\sigma(2)} = x_2, \\dots, X_{\\sigma(N)} = x_N)\n",
    "$$\n",
    "\n",
    "for every permutation  $\\sigma : [N] \\rightarrow [N]$.\n",
    "For an example we think of an urn with three red and two blue balls. \n",
    "We seek to draw all five from the urn **without** replacement. \n",
    "Pouring the example into a probabilistic framework the i-th drawn ball is denoted by a random variable $X_i = 1$ if the ball is red and $X_i = 0$ otherwise.\n",
    "We now are interested in the probability of any sequence $X_1 = x_1, \\dots, X_5 = x_5$.\n",
    "\n",
    "</div>"
   ]
  },
  {
   "cell_type": "code",
   "execution_count": null,
   "metadata": {},
   "outputs": [
    {
     "data": {
      "image/png": "[encoded data removed]",
      "text/plain": [
       "<Figure size 640x480 with 1 Axes>"
      ]
     },
     "metadata": {},
     "output_type": "display_data"
    }
   ],
   "source": [
    "urn = ['R','R','R','B','B']\n",
    "def get_all_sequences(urn):\n",
    "    a = np.array(list(map(lambda x: ' '.join(x),itertools.permutations(urn,len(urn)))))\n",
    "    b = np.unique(a)\n",
    "    return list(map(lambda x: x.split(' '), b))\n",
    "\n",
    "def calculate_probability_sequence(urn, sequence):\n",
    "    tmp = urn.copy()\n",
    "    probability = 1\n",
    "    for elem in sequence:\n",
    "        probability *= tmp.count(elem) / len(tmp)\n",
    "        tmp.remove(elem)\n",
    "    return probability\n",
    "\n",
    "def visualize_all_probabilities(urn):\n",
    "    sequences, probabilites= list(zip(\n",
    "            *[('-'.join(sequence), calculate_probability_sequence(urn, sequence))\n",
    "                for sequence in get_all_sequences(urn)]\n",
    "        ))\n",
    "    fig,ax = plt.subplots()\n",
    "    \n",
    "    ax.bar(x=sequences, height=probabilites)\n",
    "    \n",
    "    ax.set_xticks(ax.get_xticks())\n",
    "    ax.set_xticklabels(ax.get_xticklabels(), rotation=45, ha='right')\n",
    "    \n",
    "    ax.set_xlabel(\"Sequences\")\n",
    "    ax.set_ylabel(\"Probabilities\")\n",
    "    ax.set_title(\"Probability of any possible sequence in the urn\")\n",
    "    \n",
    "    plt.show()\n",
    "\n",
    "visualize_all_probabilities(urn)"
   ]
  },
  {
   "cell_type": "code",
   "execution_count": null,
   "metadata": {},
   "outputs": [
    {
     "data": {
      "application/papermill.record/text/plain": "0.346"
     },
     "metadata": {},
     "output_type": "display_data"
    }
   ],
   "source": [
    "##### Jupyter Book auxiliary########\n",
    "from myst_nb import glue\n",
    "probability_each_sequence_independency = round(scipy.stats.binom(len(urn),urn.count(urn[0])/len(urn)).pmf(urn.count(urn[0])), 3)\n",
    "glue(\"independent_prob\", probability_each_sequence_independency, display=False)\n",
    "###################################"
   ]
  },
  {
   "cell_type": "markdown",
   "metadata": {},
   "source": [
    "<div align=\"justify\">\n",
    "\n",
    "While it is not surprising that each sequence has equal probability it shows us that this sequence fulfills the property of *exchangeability*.\n",
    "Also the individual random variables are not independent, as the $i$-th realisation drawn ball influences the probability of the next $(i+1)$-th realisation. \n",
    "If the random variables were independent (resulting in a binomial distribution), the $P(X_1,\\dots, X_5) =$ {glue:}`independent_prob`.\n",
    "\n",
    "</div>"
   ]
  },
  {
   "cell_type": "markdown",
   "metadata": {},
   "source": [
    "[^footNoteIdentifier1]:The \"Annual Conference on Uncertainty in Artificial Intelligence\" (UAI) was launched in the mid 1980s."
   ]
  },
  {
   "cell_type": "markdown",
   "metadata": {},
   "source": [
    "[^footNoteIdentifier2]:We do not distinguish between the notions of information and knowledge in this paper."
   ]
  },
  {
   "cell_type": "markdown",
   "metadata": {},
   "source": [
    "[^footNoteIdentifier3]: For this reason, possibility measures can also be defined on non-numerical, purely ordinal structures."
   ]
  },
  {
   "cell_type": "markdown",
   "metadata": {},
   "source": [
    "[^footNoteIdentifier4]:Strictly speaking, possibilities are not more expressive than probabilities, since possibility distributions cannot model degenerate probability distributions: $\\Pi \\neq N$ unless $\\Pi(\\{ \\omega^* \\}) = 1$ for some $\\omega^* \\in \\Omega$ and $\\Pi(\\{ \\omega \\}) = 0$ otherwise."
   ]
  }
 ],
 "metadata": {
  "kernelspec": {
   "display_name": "toolbox",
   "language": "python",
   "name": "python3"
  },
  "language_info": {
   "codemirror_mode": {
    "name": "ipython",
    "version": 3
   },
   "file_extension": ".py",
   "mimetype": "text/x-python",
   "name": "python",
   "nbconvert_exporter": "python",
   "pygments_lexer": "ipython3",
   "version": "3.11.9"
  }
 },
 "nbformat": 4,
 "nbformat_minor": 2
}
