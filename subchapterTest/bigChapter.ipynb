{
 "cells": [
  {
   "cell_type": "markdown",
   "metadata": {},
   "source": [
    "# We have a big chapter\n",
    "Do some math stuff:\n",
    "$$ E = m*c^2$$\n",
    "Let us define a preference structure $\\succ$ which depicts the choice of jupyterBook vs GitHup Pages. Thus we have\n",
    "$$\n",
    "    JB \\succ GP \\leftrightarrow x_2 + x_3^* = \\sum_{i=1}^{n} y_i* \\hat{y_i}\n",
    "$$"
   ]
  }
 ],
 "metadata": {
  "kernelspec": {
   "display_name": "kaggle2",
   "language": "python",
   "name": "python3"
  },
  "language_info": {
   "codemirror_mode": {
    "name": "ipython",
    "version": 3
   },
   "file_extension": ".py",
   "mimetype": "text/x-python",
   "name": "python",
   "nbconvert_exporter": "python",
   "pygments_lexer": "ipython3",
   "version": "3.12.2"
  }
 },
 "nbformat": 4,
 "nbformat_minor": 2
}
