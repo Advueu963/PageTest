{
 "cells": [
  {
   "cell_type": "markdown",
   "metadata": {},
   "source": [
    "# Probability Estimation via Scoring\n"
   ]
  },
  {
   "cell_type": "markdown",
   "metadata": {},
   "source": [
    "## 1. Logarithmic Scoring Rule"
   ]
  },
  {
   "cell_type": "code",
   "execution_count": 3,
   "metadata": {},
   "outputs": [
    {
     "name": "stdout",
     "output_type": "stream",
     "text": [
      "Log Score: 0.7136\n"
     ]
    }
   ],
   "source": [
    "import numpy as np\n",
    "\n",
    "y_true = np.array([1, 1, 0])\n",
    "\n",
    "p_pred = np.array([0.8, 0.3, 0.6])\n",
    "\n",
    "log_score = -np.mean(np.log(p_pred[y_true == 1]))\n",
    "print(f\"Log Score: {log_score:.4f}\")"
   ]
  },
  {
   "cell_type": "markdown",
   "metadata": {},
   "source": [
    "## 2. Brier Score"
   ]
  },
  {
   "cell_type": "code",
   "execution_count": 5,
   "metadata": {},
   "outputs": [
    {
     "name": "stdout",
     "output_type": "stream",
     "text": [
      "Brier Score: 0.2967\n"
     ]
    }
   ],
   "source": [
    "from sklearn.metrics import brier_score_loss\n",
    "\n",
    "y_true = np.array([1, 1, 0])\n",
    "\n",
    "p_pred = np.array([0.8, 0.3, 0.6])\n",
    "\n",
    "brier_score = brier_score_loss(y_true, p_pred)\n",
    "print(f\"Brier Score: {brier_score:.4f}\")\n"
   ]
  },
  {
   "cell_type": "markdown",
   "metadata": {},
   "source": [
    "## 3. Continuous Ranked Probability Score"
   ]
  },
  {
   "cell_type": "code",
   "execution_count": 8,
   "metadata": {},
   "outputs": [
    {
     "name": "stdout",
     "output_type": "stream",
     "text": [
      "Continuous Ranked Probability Score: 0.1000\n"
     ]
    }
   ],
   "source": [
    "import numpy as np\n",
    "from properscoring import crps_ensemble\n",
    "\n",
    "y_true = np.array([3.5])\n",
    "\n",
    "predicted_ensemble = np.array([[3.0, 3.2, 3.4, 3.6, 3.8]])\n",
    "\n",
    "crps_score = crps_ensemble(y_true, predicted_ensemble)\n",
    "print(f\"Continuous Ranked Probability Score: {crps_score.mean():.4f}\")\n"
   ]
  },
  {
   "cell_type": "markdown",
   "metadata": {},
   "source": []
  }
 ],
 "metadata": {
  "kernelspec": {
   "display_name": "Python 3",
   "language": "python",
   "name": "python3"
  },
  "language_info": {
   "codemirror_mode": {
    "name": "ipython",
    "version": 3
   },
   "file_extension": ".py",
   "mimetype": "text/x-python",
   "name": "python",
   "nbconvert_exporter": "python",
   "pygments_lexer": "ipython3",
   "version": "3.9.6"
  }
 },
 "nbformat": 4,
 "nbformat_minor": 2
}
