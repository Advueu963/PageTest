{
 "cells": [
  {
   "cell_type": "markdown",
   "metadata": {},
   "source": [
    "# Probability Estimation and Calibration"
   ]
  },
  {
   "cell_type": "code",
   "execution_count": 1,
   "metadata": {},
   "outputs": [],
   "source": [
    "import numpy as np\n",
    "import matplotlib.pyplot as plt"
   ]
  },
  {
   "cell_type": "markdown",
   "metadata": {},
   "source": [
    "<div align=\"justify\">\n",
    "\n",
    "The predictions delivered by corresponding methods are at best \"pseudo-probabilities\" that are often not very accurate. \n",
    "Besides, there are many methods that deliver natural scores, \n",
    "intuitively expressing a degree of confidence \n",
    "(like the distance from the separating hyperplane in support vector machines), \n",
    "but which do not immediately qualify as probabilities either. \n",
    "The idea of *scaling* or *calibration methods* is to turn such scores into proper, \n",
    "well-calibrated probabilities, that is, \n",
    "to learn a mapping from scores to the unit interval that can be applied to the output of a predictor as a kind of post-processing step ({cite:t}`flac_cc17`). \n",
    "Examples of such methods include binning ({cite:t}`zadr_oc01`), \n",
    "isotonic regression ({cite:t}`zadr_tc02`), \n",
    "logistic scaling ({cite:t}`Pla00`) \n",
    "and improvements thereof ({cite:t}`kull_bc17`), \n",
    "as well as the use of Venn predictors ({cite:t}`joha_vp18`). \n",
    "Calibration is still a topic of ongoing research. \n",
    "\n",
    "</div>"
   ]
  },
  {
   "cell_type": "markdown",
   "metadata": {},
   "source": [
    "### Isotonic Regression\n",
    "\n",
    "https://scikit-learn.org/stable/modules/isotonic.html\n",
    "\n",
    "https://scikit-learn.org/stable/auto_examples/miscellaneous/plot_isotonic_regression.html#sphx-glr-auto-examples-miscellaneous-plot-isotonic-regression-py"
   ]
  },
  {
   "cell_type": "markdown",
   "metadata": {},
   "source": [
    "## Classifier Calibration"
   ]
  },
  {
   "cell_type": "markdown",
   "metadata": {},
   "source": [
    "```{note}\n",
    "A lower Brier loss, for instance, does not necessarily mean a better calibrated model, it could also mean a worse calibrated model with much more discriminatory power, e.g. using many more features.\n",
    "```\n",
    "\n",
    "https://scikit-learn.org/stable/modules/calibration.html\n",
    "\n",
    "https://arxiv.org/pdf/2112.10327\n",
    "\n",
    "({cite:t}`FilhoSPSKF23`) "
   ]
  },
  {
   "cell_type": "markdown",
   "metadata": {},
   "source": [
    "## Regressor Calibration"
   ]
  },
  {
   "cell_type": "markdown",
   "metadata": {},
   "source": []
  },
  {
   "cell_type": "markdown",
   "metadata": {},
   "source": []
  }
 ],
 "metadata": {
  "kernelspec": {
   "display_name": "Python 3",
   "language": "python",
   "name": "python3"
  },
  "language_info": {
   "codemirror_mode": {
    "name": "ipython",
    "version": 3
   },
   "file_extension": ".py",
   "mimetype": "text/x-python",
   "name": "python",
   "nbconvert_exporter": "python",
   "pygments_lexer": "ipython3",
   "version": "3.9.6"
  }
 },
 "nbformat": 4,
 "nbformat_minor": 2
}
