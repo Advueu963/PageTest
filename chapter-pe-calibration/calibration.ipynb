{
 "cells": [
  {
   "cell_type": "markdown",
   "metadata": {},
   "source": [
    "# Probability Estimation and Calibration"
   ]
  },
  {
   "cell_type": "code",
   "execution_count": null,
   "metadata": {
    "vscode": {
     "languageId": "plaintext"
    }
   },
   "outputs": [],
   "source": []
  },
  {
   "cell_type": "markdown",
   "metadata": {},
   "source": [
    "<div align=\"justify\">\n",
    "\n",
    "The predictions delivered by corresponding methods are at best \"pseudo-probabilities\" that are often not very accurate. \n",
    "Besides, there are many methods that deliver natural scores, \n",
    "intuitively expressing a degree of confidence \n",
    "(like the distance from the separating hyperplane in support vector machines), \n",
    "but which do not immediately qualify as probabilities either. \n",
    "The idea of *scaling* or *calibration methods* is to turn such scores into proper, \n",
    "well-calibrated probabilities, that is, \n",
    "to learn a mapping from scores to the unit interval that can be applied to the output of a predictor as a kind of post-processing step ({cite:t}`flac_cc17`). \n",
    "Examples of such methods include binning ({cite:t}`zadr_oc01`), \n",
    "isotonic regression ({cite:t}`zadr_tc02`), \n",
    "logistic scaling ({cite:t}`Pla00`) \n",
    "and improvements thereof ({cite:t}`kull_bc17`), \n",
    "as well as the use of Venn predictors ({cite:t}`joha_vp18`). \n",
    "Calibration is still a topic of ongoing research. \n",
    "\n",
    "</div>"
   ]
  },
  {
   "cell_type": "markdown",
   "metadata": {},
   "source": []
  }
 ],
 "metadata": {
  "language_info": {
   "name": "python"
  }
 },
 "nbformat": 4,
 "nbformat_minor": 2
}
