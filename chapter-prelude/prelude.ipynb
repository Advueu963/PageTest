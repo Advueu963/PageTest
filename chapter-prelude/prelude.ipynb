{
 "cells": [
  {
   "cell_type": "markdown",
   "metadata": {},
   "source": [
    "# Prelude"
   ]
  },
  {
   "cell_type": "markdown",
   "metadata": {},
   "source": [
    "<div align=\"justify\"> \n",
    "\n",
    "The notion of uncertainty is of major importance in machine learning and constitutes a key element of machine learning methodology. In line with the statistical tradition, uncertainty has long been perceived as almost synonymous with standard probability and probabilistic predictions. Yet, due to the steadily increasing relevance of machine learning for practical applications and related issues such as safety requirements, new problems and challenges have recently been identified by machine learning scholars, and these problems may call for new methodological developments. In particular, this includes the importance of distinguishing between (at least) two different types of uncertainty, often referred to as aleatoric and epistemic. In this work, we provide an introduction to the topic of uncertainty in machine learning as well as an overview of attempts so far at handling uncertainty in general and formalizing this distinction in particular.\n",
    "\n",
    "</div>"
   ]
  },
  {
   "cell_type": "markdown",
   "metadata": {},
   "source": [
    "## Content and Structure"
   ]
  },
  {
   "cell_type": "markdown",
   "metadata": {},
   "source": [
    "<div align=\"justify\">\n",
    "\n",
    "The book consists out of three main parts, that focus on discussing the different sources of uncertainty, statistical approaches for modelling approximation uncertainty and machine learning specific methods for representing uncertainty.\n",
    "\n",
    "- **Part 1: Sources of uncertainty in supervised learning.** The distinction of different sources of uncertainty is discussed in {ref}`chapter 2<know>`\n",
    "\n",
    "- **Part 2: Modelling approximation uncertainty: Set-based versus distributional representations.** Different statistical approaches for modelling uncertainty are discussed in {ref}`chapter 4 <sbvd>`\n",
    "\n",
    "- **Part 3: Machine learning methods for representing uncertainty.** This is the main part of the book, which presents several different machine learning methods that allow for representing a learners uncertainty in a prediction. First, approaches that use classical frequentist statistics for quantifying uncertainty are discussed: Chapters {ref}`5<pe-scoring>`, {ref}`6<pe-calibration>` and {ref}`7<pe-ensemble>` discuss how to estimate probabilities via scoring, calibration and ensembles. {ref}`Chapter 8<fisher>` treat maximum likelihood estimation and the fisher information matrix. {ref}`Chapter 9<genmodels>` discusses generative models. Next, Bayesian approaches for uncertainty quantification are discussed: {ref}`Chapter 10<gaussian-processes>` presents gaussian processes. Sections {ref}`11<deep-ensembles>` and {ref}`12<bayesian-nn>` describe ensembles of deep neural networks and bayesian neural networks. {ref}`Chapter 13<credal>` addresses the concept of credal sets and {ref}`chapter 14<uqnl>` reliable classification. Lastly, the concept of set valued prediction is introduced. Chapter {ref}`15<conformal-class>` and `16<confromal-reg` discuss conformal prediction for classification and regression respectively. {ref}`Chapter 17<set-util>` explains set-valued prediction based on ßutility maximization.\n",
    "\n",
    "</div>"
   ]
  },
  {
   "cell_type": "markdown",
   "metadata": {},
   "source": [
    "## Target Audience"
   ]
  },
  {
   "cell_type": "markdown",
   "metadata": {},
   "source": [
    "However, since the aim of this book is to merely discuss topics of uncertainty quantification not to introduce basic machine learning concepts. We will therfore assume the reader enters with some prior knowledge about machince learning as well as basic knowledge of probability theory and Python programming."
   ]
  },
  {
   "cell_type": "markdown",
   "metadata": {},
   "source": []
  }
 ],
 "metadata": {
  "kernelspec": {
   "display_name": "kaggle2",
   "language": "python",
   "name": "python3"
  },
  "language_info": {
   "name": "python",
   "version": "3.12.2"
  }
 },
 "nbformat": 4,
 "nbformat_minor": 2
}
